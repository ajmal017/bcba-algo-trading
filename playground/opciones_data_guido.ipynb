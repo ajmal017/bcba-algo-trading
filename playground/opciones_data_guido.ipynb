{
 "cells": [
  {
   "cell_type": "code",
   "execution_count": 2,
   "metadata": {},
   "outputs": [],
   "source": [
    "import yfinance as yf\n",
    "import matplotlib.pyplot as plt"
   ]
  },
  {
   "cell_type": "code",
   "execution_count": 20,
   "metadata": {},
   "outputs": [
    {
     "name": "stdout",
     "output_type": "stream",
     "text": [
      "yfinance.Ticker object <GGAL>\n"
     ]
    }
   ],
   "source": [
    "ticker=\"GGAL\"\n",
    "ggal = yf.Ticker(ticker)\n",
    "# data = ggal.history(period=\"2y\")\n",
    "print(ggal)"
   ]
  },
  {
   "cell_type": "code",
   "execution_count": 21,
   "metadata": {},
   "outputs": [
    {
     "data": {
      "text/plain": [
       "('2020-11-20', '2021-01-15', '2021-04-16', '2022-01-21', '2023-01-20')"
      ]
     },
     "metadata": {},
     "output_type": "display_data"
    },
    {
     "data": {
      "text/plain": [
       "Options(calls=        contractSymbol       lastTradeDate  strike  lastPrice  bid   ask  \\\n",
       "0  GGAL201120C00005000 2020-10-19 16:28:45     5.0       2.20  1.8  2.20   \n",
       "1  GGAL201120C00007500 2020-10-19 18:24:47     7.5       0.45  0.3  0.50   \n",
       "2  GGAL201120C00010000 2020-10-05 14:58:37    10.0       0.05  0.0  0.15   \n",
       "3  GGAL201120C00015000 2020-10-19 04:02:54    15.0       0.10  NaN  0.25   \n",
       "\n",
       "   change  percentChange  volume  openInterest  impliedVolatility  inTheMoney  \\\n",
       "0     0.4      22.222229     1.0             4           0.953125        True   \n",
       "1     0.1      28.571426   270.0           704           0.767580       False   \n",
       "2     0.0       0.000000    10.0           117           0.867189       False   \n",
       "3     0.0       0.000000     NaN            10           1.953125       False   \n",
       "\n",
       "  contractSize currency  \n",
       "0      REGULAR      USD  \n",
       "1      REGULAR      USD  \n",
       "2      REGULAR      USD  \n",
       "3      REGULAR      USD  , puts=        contractSymbol       lastTradeDate  strike  lastPrice   bid  ask  \\\n",
       "0  GGAL201120P00005000 2020-10-15 13:42:23     5.0       0.13  0.00  0.2   \n",
       "1  GGAL201120P00007500 2020-10-16 19:27:53     7.5       1.10  0.85  1.1   \n",
       "2  GGAL201120P00010000 2020-09-22 19:56:46    10.0       3.20  2.70  3.3   \n",
       "3  GGAL201120P00012500 2020-09-24 14:41:39    12.5       5.58  5.20  5.9   \n",
       "4  GGAL201120P00015000 2020-09-21 04:01:48    15.0       7.20  7.80  8.4   \n",
       "\n",
       "   change  percentChange  volume  openInterest  impliedVolatility  inTheMoney  \\\n",
       "0     0.0            0.0     4.0            97           0.921876       False   \n",
       "1     0.0            0.0     1.0           121           0.722659        True   \n",
       "2     0.0            0.0    10.0            15           1.125004        True   \n",
       "3     0.0            0.0     NaN           100           1.718751        True   \n",
       "4     0.0            0.0     NaN             0           2.031255        True   \n",
       "\n",
       "  contractSize currency  \n",
       "0      REGULAR      USD  \n",
       "1      REGULAR      USD  \n",
       "2      REGULAR      USD  \n",
       "3      REGULAR      USD  \n",
       "4      REGULAR      USD  )"
      ]
     },
     "metadata": {},
     "output_type": "display_data"
    }
   ],
   "source": [
    "vencimientos = ggal.options\n",
    "display(vencimientos)\n",
    "display(ggal.option_chain(vencimientos[0]))"
   ]
  },
  {
   "cell_type": "code",
   "execution_count": null,
   "metadata": {},
   "outputs": [],
   "source": []
  }
 ],
 "metadata": {
  "kernelspec": {
   "display_name": "Python 3",
   "language": "python",
   "name": "python3"
  },
  "language_info": {
   "codemirror_mode": {
    "name": "ipython",
    "version": 3
   },
   "file_extension": ".py",
   "mimetype": "text/x-python",
   "name": "python",
   "nbconvert_exporter": "python",
   "pygments_lexer": "ipython3",
   "version": "3.7.7"
  }
 },
 "nbformat": 4,
 "nbformat_minor": 4
}
