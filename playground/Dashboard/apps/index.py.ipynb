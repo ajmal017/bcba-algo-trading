{
 "cells": [
  {
   "cell_type": "code",
   "execution_count": 1,
   "metadata": {},
   "outputs": [],
   "source": [
    "#!pip install app"
   ]
  },
  {
   "cell_type": "code",
   "execution_count": 1,
   "metadata": {},
   "outputs": [
    {
     "ename": "ImportError",
     "evalue": "cannot import name 'app' from 'app' (/home/thomas/anaconda3/envs/dhdsblend/lib/python3.7/site-packages/app/__init__.py)",
     "output_type": "error",
     "traceback": [
      "\u001b[0;31m---------------------------------------------------------------------------\u001b[0m",
      "\u001b[0;31mImportError\u001b[0m                               Traceback (most recent call last)",
      "\u001b[0;32m<ipython-input-1-bf592d0bcbda>\u001b[0m in \u001b[0;36m<module>\u001b[0;34m\u001b[0m\n\u001b[1;32m      5\u001b[0m \u001b[0;34m\u001b[0m\u001b[0m\n\u001b[1;32m      6\u001b[0m \u001b[0;34m\u001b[0m\u001b[0m\n\u001b[0;32m----> 7\u001b[0;31m \u001b[0;32mfrom\u001b[0m \u001b[0mapp\u001b[0m \u001b[0;32mimport\u001b[0m \u001b[0mapp\u001b[0m\u001b[0;34m\u001b[0m\u001b[0;34m\u001b[0m\u001b[0m\n\u001b[0m\u001b[1;32m      8\u001b[0m \u001b[0;31m# import all pages in the app\u001b[0m\u001b[0;34m\u001b[0m\u001b[0;34m\u001b[0m\u001b[0;34m\u001b[0m\u001b[0m\n\u001b[1;32m      9\u001b[0m \u001b[0;32mfrom\u001b[0m \u001b[0mapps\u001b[0m \u001b[0;32mimport\u001b[0m \u001b[0mTickers\u001b[0m\u001b[0;34m,\u001b[0m \u001b[0mprueba\u001b[0m\u001b[0;34m,\u001b[0m \u001b[0mhome\u001b[0m\u001b[0;34m\u001b[0m\u001b[0;34m\u001b[0m\u001b[0m\n",
      "\u001b[0;31mImportError\u001b[0m: cannot import name 'app' from 'app' (/home/thomas/anaconda3/envs/dhdsblend/lib/python3.7/site-packages/app/__init__.py)"
     ]
    }
   ],
   "source": [
    "import dash_core_components as dcc\n",
    "import dash_html_components as html\n",
    "from dash.dependencies import Input, Output, State\n",
    "import dash_bootstrap_components as dbc\n",
    "\n",
    "\n",
    "from app import app\n",
    "# import all pages in the app\n",
    "from apps import Tickers, prueba, home\n",
    "\n",
    "# building the navigation bar\n",
    "# https://github.com/facultyai/dash-bootstrap-components/blob/master/examples/advanced-component-usage/Navbars.py\n",
    "dropdown = dbc.DropdownMenu(\n",
    "    children=[\n",
    "        dbc.DropdownMenuItem(\"Home\", href=\"/haha\"),\n",
    "        dbc.DropdownMenuItem(\"Prueba1\", href=\"/global_situation\"),\n",
    "        dbc.DropdownMenuItem(\"Prueba2\", href=\"/singapore\"),\n",
    "    ],\n",
    "    nav = True,\n",
    "    in_navbar = True,\n",
    "    label = \"Explore\",\n",
    ")\n",
    "\n",
    "navbar = dbc.Navbar(\n",
    "    dbc.Container(\n",
    "        [\n",
    "            html.A(\n",
    "                # Use row and col to control vertical alignment of logo / brand\n",
    "                dbc.Row(\n",
    "                    [\n",
    "                        dbc.Col(html.Img(src=\"/assets/logo-DH.png\", height=\"30px\")),\n",
    "                        dbc.Col(dbc.NavbarBrand(\"BCBA Algo DASH\", className=\"ml-2\")),\n",
    "                    ],\n",
    "                    align=\"center\",\n",
    "                    no_gutters=True,\n",
    "                ),\n",
    "                href=\"/home\",\n",
    "            ),\n",
    "            dbc.NavbarToggler(id=\"navbar-toggler2\"),\n",
    "            dbc.Collapse(\n",
    "                dbc.Nav(\n",
    "                    # right align dropdown menu with ml-auto className\n",
    "                    [dropdown], className=\"ml-auto\", navbar=True\n",
    "                ),\n",
    "                id=\"navbar-collapse2\",\n",
    "                navbar=True,\n",
    "            ),\n",
    "        ]\n",
    "    ),\n",
    "    color=\"dark\",\n",
    "    dark=True,\n",
    "    className=\"mb-4\",\n",
    ")\n",
    "\n",
    "def toggle_navbar_collapse(n, is_open):\n",
    "    if n:\n",
    "        return not is_open\n",
    "    return is_open\n",
    "\n",
    "for i in [2]:\n",
    "    app.callback(\n",
    "        Output(f\"navbar-collapse{i}\", \"is_open\"),\n",
    "        [Input(f\"navbar-toggler{i}\", \"n_clicks\")],\n",
    "        [State(f\"navbar-collapse{i}\", \"is_open\")],\n",
    "    )(toggle_navbar_collapse)\n",
    "\n",
    "# embedding the navigation bar\n",
    "app.layout = html.Div([\n",
    "    dcc.Location(id='url', refresh=False),\n",
    "    navbar,\n",
    "    html.Div(id='page-content')\n",
    "])\n",
    "\n",
    "\n",
    "@app.callback(Output('page-content', 'children'),\n",
    "              [Input('url', 'pathname')])\n",
    "def display_page(pathname):\n",
    "    if pathname == '/prueba1':\n",
    "        return global_situation.layout\n",
    "    elif pathname == '/prueba2':\n",
    "        return singapore.layout\n",
    "    else:\n",
    "        return home.layout\n",
    "\n",
    "if __name__ == '__main__':\n",
    "    app.run_server(host='127.0.0.1', debug=True)"
   ]
  },
  {
   "cell_type": "code",
   "execution_count": null,
   "metadata": {},
   "outputs": [],
   "source": []
  }
 ],
 "metadata": {
  "kernelspec": {
   "display_name": "Python 3",
   "language": "python",
   "name": "python3"
  },
  "language_info": {
   "codemirror_mode": {
    "name": "ipython",
    "version": 3
   },
   "file_extension": ".py",
   "mimetype": "text/x-python",
   "name": "python",
   "nbconvert_exporter": "python",
   "pygments_lexer": "ipython3",
   "version": "3.7.7"
  }
 },
 "nbformat": 4,
 "nbformat_minor": 4
}
