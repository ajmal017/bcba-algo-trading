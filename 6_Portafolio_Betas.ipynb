{
 "cells": [
  {
   "cell_type": "code",
   "execution_count": 2,
   "metadata": {},
   "outputs": [],
   "source": [
    "import pandas as pd\n",
    "import numpy as np\n",
    "import matplotlib.pyplot as plt\n",
    "from scipy import stats\n",
    "import seaborn as sns\n",
    "import pandas_datareader as web"
   ]
  },
  {
   "cell_type": "code",
   "execution_count": 3,
   "metadata": {},
   "outputs": [],
   "source": [
    "# Create a list of tickers and weights\n",
    "tickers = ['ALUA', 'APBR', 'BBAR', 'BHIP', 'BMA', 'BRIO5', 'CEPU', 'CVH', 'EDN', 'GGAL', 'LOMA', 'PAMP', 'SUPV', 'TECO2']\n",
    "wts = [0.071,0.071,0.071,0.071,0.071,0.071,0.071,0.071,0.071,0.071,0.071,0.071,0.071,0.071,]"
   ]
  },
  {
   "cell_type": "code",
   "execution_count": 4,
   "metadata": {},
   "outputs": [
    {
     "output_type": "stream",
     "name": "stderr",
     "text": [
      "C:\\Users\\carlm\\anaconda3\\envs\\tf_gpu\\lib\\site-packages\\pandas_datareader\\base.py:272: SymbolWarning: Failed to read symbol: 'ALUA', replacing with NaN.\n",
      "  warnings.warn(msg.format(sym), SymbolWarning)\n",
      "C:\\Users\\carlm\\anaconda3\\envs\\tf_gpu\\lib\\site-packages\\pandas_datareader\\base.py:272: SymbolWarning: Failed to read symbol: 'APBR', replacing with NaN.\n",
      "  warnings.warn(msg.format(sym), SymbolWarning)\n",
      "C:\\Users\\carlm\\anaconda3\\envs\\tf_gpu\\lib\\site-packages\\pandas_datareader\\base.py:272: SymbolWarning: Failed to read symbol: 'BHIP', replacing with NaN.\n",
      "  warnings.warn(msg.format(sym), SymbolWarning)\n",
      "C:\\Users\\carlm\\anaconda3\\envs\\tf_gpu\\lib\\site-packages\\pandas_datareader\\base.py:272: SymbolWarning: Failed to read symbol: 'BRIO5', replacing with NaN.\n",
      "  warnings.warn(msg.format(sym), SymbolWarning)\n",
      "C:\\Users\\carlm\\anaconda3\\envs\\tf_gpu\\lib\\site-packages\\pandas_datareader\\base.py:272: SymbolWarning: Failed to read symbol: 'CVH', replacing with NaN.\n",
      "  warnings.warn(msg.format(sym), SymbolWarning)\n",
      "C:\\Users\\carlm\\anaconda3\\envs\\tf_gpu\\lib\\site-packages\\pandas_datareader\\base.py:272: SymbolWarning: Failed to read symbol: 'PAMP', replacing with NaN.\n",
      "  warnings.warn(msg.format(sym), SymbolWarning)\n",
      "C:\\Users\\carlm\\anaconda3\\envs\\tf_gpu\\lib\\site-packages\\pandas_datareader\\base.py:272: SymbolWarning: Failed to read symbol: 'TECO2', replacing with NaN.\n",
      "  warnings.warn(msg.format(sym), SymbolWarning)\n"
     ]
    }
   ],
   "source": [
    "price_data = web.get_data_yahoo(tickers,\n",
    "                               start = '2013-01-01',\n",
    "                               end = '2018-03-01')\n",
    "price_data = price_data['Adj Close']"
   ]
  },
  {
   "cell_type": "code",
   "execution_count": null,
   "metadata": {},
   "outputs": [],
   "source": []
  }
 ],
 "metadata": {
  "kernelspec": {
   "display_name": "Python 3",
   "language": "python",
   "name": "python3"
  },
  "language_info": {
   "codemirror_mode": {
    "name": "ipython",
    "version": 3
   },
   "file_extension": ".py",
   "mimetype": "text/x-python",
   "name": "python",
   "nbconvert_exporter": "python",
   "pygments_lexer": "ipython3",
   "version": "3.7.8-final"
  }
 },
 "nbformat": 4,
 "nbformat_minor": 4
}