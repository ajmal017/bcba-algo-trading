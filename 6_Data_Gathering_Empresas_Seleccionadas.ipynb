{
 "metadata": {
  "language_info": {
   "codemirror_mode": {
    "name": "ipython",
    "version": 3
   },
   "file_extension": ".py",
   "mimetype": "text/x-python",
   "name": "python",
   "nbconvert_exporter": "python",
   "pygments_lexer": "ipython3",
   "version": 3
  },
  "orig_nbformat": 2
 },
 "nbformat": 4,
 "nbformat_minor": 2,
 "cells": [
  {
   "source": [
    "# Data Gathering Empresas Seleccionadas"
   ],
   "cell_type": "markdown",
   "metadata": {}
  },
  {
   "source": [
    "En esta notebook buscamos en yahoo finance los datos de empresas seleccionadas desde el inicio del 2020 para generar un portafolio usando PCA."
   ],
   "cell_type": "markdown",
   "metadata": {}
  },
  {
   "cell_type": "code",
   "execution_count": null,
   "metadata": {},
   "outputs": [],
   "source": [
    "companies = [\n",
    "    'ALUA', 'BBAR', 'BHIP',\n",
    "    'BMA', 'BRIO5', 'CEPU', 'CVH',\n",
    "    'EDN', 'GGAL', 'LOMA', 'PAMP', 'SUPV',\n",
    "    'TECO2'\n",
    "]\n",
    "\n",
    "companies_bcba = pd.Series([f'{x}.BA' for x in companies])\n",
    "\n",
    "data_portfolio = yf.download(' '.join(companies_bcba), start='2020-01-01')['Adj Close']\n",
    "\n",
    "\n",
    "data_portfolio.head(3)"
   ]
  },
  {
   "cell_type": "code",
   "execution_count": null,
   "metadata": {},
   "outputs": [],
   "source": [
    "data_portfolio.to_csv('data/portafolio-empresas-seleccionadas.csv')"
   ]
  }
 ]
}