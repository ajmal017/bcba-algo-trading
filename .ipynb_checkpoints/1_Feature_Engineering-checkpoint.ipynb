{
 "cells": [
  {
   "cell_type": "markdown",
   "metadata": {},
   "source": [
    "# Feature Engineering"
   ]
  },
  {
   "cell_type": "markdown",
   "metadata": {},
   "source": [
    "Preparo el dataset para ser posteriormente usado en el modelo"
   ]
  },
  {
   "cell_type": "markdown",
   "metadata": {},
   "source": [
    "Indicadores a utilizar:\n",
    "\n",
    "* Percentage price oscilator (PPO)\n",
    "* Moving average convergence/divergence (MACD)\n",
    "* Normalized average true range (NATR)\n",
    "* Relative Strenght index (RSI)\n",
    "* Bollinger Bands"
   ]
  },
  {
   "cell_type": "markdown",
   "metadata": {},
   "source": [
    "## Unimos los tickers"
   ]
  },
  {
   "cell_type": "code",
   "execution_count": 2,
   "metadata": {},
   "outputs": [],
   "source": [
    "import pandas as pd\n",
    "import numpy as np\n",
    "import seaborn as sns\n",
    "from talib import MACD, PPO, MACD, NATR, RSI, BBANDS, SMA, ATR"
   ]
  },
  {
   "cell_type": "code",
   "execution_count": 3,
   "metadata": {
    "scrolled": true
   },
   "outputs": [
    {
     "data": {
      "text/html": [
       "<div>\n",
       "<style scoped>\n",
       "    .dataframe tbody tr th:only-of-type {\n",
       "        vertical-align: middle;\n",
       "    }\n",
       "\n",
       "    .dataframe tbody tr th {\n",
       "        vertical-align: top;\n",
       "    }\n",
       "\n",
       "    .dataframe thead tr th {\n",
       "        text-align: left;\n",
       "    }\n",
       "\n",
       "    .dataframe thead tr:last-of-type th {\n",
       "        text-align: right;\n",
       "    }\n",
       "</style>\n",
       "<table border=\"1\" class=\"dataframe\">\n",
       "  <thead>\n",
       "    <tr>\n",
       "      <th></th>\n",
       "      <th colspan=\"7\" halign=\"left\">ALUA</th>\n",
       "      <th colspan=\"3\" halign=\"left\">BBAR</th>\n",
       "      <th>...</th>\n",
       "      <th colspan=\"3\" halign=\"left\">SUPV</th>\n",
       "      <th colspan=\"7\" halign=\"left\">TECO2</th>\n",
       "    </tr>\n",
       "    <tr>\n",
       "      <th></th>\n",
       "      <th>Open</th>\n",
       "      <th>High</th>\n",
       "      <th>Low</th>\n",
       "      <th>Close</th>\n",
       "      <th>Volume</th>\n",
       "      <th>Dividends</th>\n",
       "      <th>Stock Splits</th>\n",
       "      <th>Open</th>\n",
       "      <th>High</th>\n",
       "      <th>Low</th>\n",
       "      <th>...</th>\n",
       "      <th>Volume</th>\n",
       "      <th>Dividends</th>\n",
       "      <th>Stock Splits</th>\n",
       "      <th>Open</th>\n",
       "      <th>High</th>\n",
       "      <th>Low</th>\n",
       "      <th>Close</th>\n",
       "      <th>Volume</th>\n",
       "      <th>Dividends</th>\n",
       "      <th>Stock Splits</th>\n",
       "    </tr>\n",
       "    <tr>\n",
       "      <th>Date</th>\n",
       "      <th></th>\n",
       "      <th></th>\n",
       "      <th></th>\n",
       "      <th></th>\n",
       "      <th></th>\n",
       "      <th></th>\n",
       "      <th></th>\n",
       "      <th></th>\n",
       "      <th></th>\n",
       "      <th></th>\n",
       "      <th></th>\n",
       "      <th></th>\n",
       "      <th></th>\n",
       "      <th></th>\n",
       "      <th></th>\n",
       "      <th></th>\n",
       "      <th></th>\n",
       "      <th></th>\n",
       "      <th></th>\n",
       "      <th></th>\n",
       "      <th></th>\n",
       "    </tr>\n",
       "  </thead>\n",
       "  <tbody>\n",
       "    <tr>\n",
       "      <th>2018-10-02</th>\n",
       "      <td>19.96</td>\n",
       "      <td>20.53</td>\n",
       "      <td>19.44</td>\n",
       "      <td>19.77</td>\n",
       "      <td>630425</td>\n",
       "      <td>0.0</td>\n",
       "      <td>0</td>\n",
       "      <td>152.17</td>\n",
       "      <td>156.91</td>\n",
       "      <td>147.23</td>\n",
       "      <td>...</td>\n",
       "      <td>1107947</td>\n",
       "      <td>0.0</td>\n",
       "      <td>0</td>\n",
       "      <td>122.34</td>\n",
       "      <td>127.96</td>\n",
       "      <td>120.50</td>\n",
       "      <td>121.91</td>\n",
       "      <td>86008</td>\n",
       "      <td>0.0</td>\n",
       "      <td>0</td>\n",
       "    </tr>\n",
       "    <tr>\n",
       "      <th>2018-10-03</th>\n",
       "      <td>19.68</td>\n",
       "      <td>21.00</td>\n",
       "      <td>19.39</td>\n",
       "      <td>20.44</td>\n",
       "      <td>857202</td>\n",
       "      <td>0.0</td>\n",
       "      <td>0</td>\n",
       "      <td>157.88</td>\n",
       "      <td>164.66</td>\n",
       "      <td>148.68</td>\n",
       "      <td>...</td>\n",
       "      <td>919541</td>\n",
       "      <td>0.0</td>\n",
       "      <td>0</td>\n",
       "      <td>123.40</td>\n",
       "      <td>125.90</td>\n",
       "      <td>121.47</td>\n",
       "      <td>122.78</td>\n",
       "      <td>152360</td>\n",
       "      <td>0.0</td>\n",
       "      <td>0</td>\n",
       "    </tr>\n",
       "    <tr>\n",
       "      <th>2018-10-04</th>\n",
       "      <td>21.00</td>\n",
       "      <td>21.29</td>\n",
       "      <td>20.25</td>\n",
       "      <td>20.39</td>\n",
       "      <td>708669</td>\n",
       "      <td>0.0</td>\n",
       "      <td>0</td>\n",
       "      <td>150.86</td>\n",
       "      <td>150.86</td>\n",
       "      <td>140.45</td>\n",
       "      <td>...</td>\n",
       "      <td>690451</td>\n",
       "      <td>0.0</td>\n",
       "      <td>0</td>\n",
       "      <td>122.78</td>\n",
       "      <td>125.37</td>\n",
       "      <td>120.59</td>\n",
       "      <td>122.78</td>\n",
       "      <td>126659</td>\n",
       "      <td>0.0</td>\n",
       "      <td>0</td>\n",
       "    </tr>\n",
       "    <tr>\n",
       "      <th>2018-10-05</th>\n",
       "      <td>20.44</td>\n",
       "      <td>20.81</td>\n",
       "      <td>19.54</td>\n",
       "      <td>19.87</td>\n",
       "      <td>306049</td>\n",
       "      <td>0.0</td>\n",
       "      <td>0</td>\n",
       "      <td>142.87</td>\n",
       "      <td>144.81</td>\n",
       "      <td>135.61</td>\n",
       "      <td>...</td>\n",
       "      <td>741961</td>\n",
       "      <td>0.0</td>\n",
       "      <td>0</td>\n",
       "      <td>121.47</td>\n",
       "      <td>123.66</td>\n",
       "      <td>119.27</td>\n",
       "      <td>119.27</td>\n",
       "      <td>132525</td>\n",
       "      <td>0.0</td>\n",
       "      <td>0</td>\n",
       "    </tr>\n",
       "    <tr>\n",
       "      <th>2018-10-08</th>\n",
       "      <td>19.68</td>\n",
       "      <td>20.34</td>\n",
       "      <td>19.58</td>\n",
       "      <td>19.77</td>\n",
       "      <td>335673</td>\n",
       "      <td>0.0</td>\n",
       "      <td>0</td>\n",
       "      <td>136.19</td>\n",
       "      <td>138.51</td>\n",
       "      <td>133.67</td>\n",
       "      <td>...</td>\n",
       "      <td>605639</td>\n",
       "      <td>0.0</td>\n",
       "      <td>0</td>\n",
       "      <td>119.32</td>\n",
       "      <td>123.66</td>\n",
       "      <td>119.32</td>\n",
       "      <td>122.34</td>\n",
       "      <td>72995</td>\n",
       "      <td>0.0</td>\n",
       "      <td>0</td>\n",
       "    </tr>\n",
       "  </tbody>\n",
       "</table>\n",
       "<p>5 rows × 84 columns</p>\n",
       "</div>"
      ],
      "text/plain": [
       "             ALUA                                                        BBAR  \\\n",
       "             Open   High    Low  Close  Volume Dividends Stock Splits    Open   \n",
       "Date                                                                            \n",
       "2018-10-02  19.96  20.53  19.44  19.77  630425       0.0            0  152.17   \n",
       "2018-10-03  19.68  21.00  19.39  20.44  857202       0.0            0  157.88   \n",
       "2018-10-04  21.00  21.29  20.25  20.39  708669       0.0            0  150.86   \n",
       "2018-10-05  20.44  20.81  19.54  19.87  306049       0.0            0  142.87   \n",
       "2018-10-08  19.68  20.34  19.58  19.77  335673       0.0            0  136.19   \n",
       "\n",
       "                            ...     SUPV                          TECO2  \\\n",
       "              High     Low  ...   Volume Dividends Stock Splits    Open   \n",
       "Date                        ...                                           \n",
       "2018-10-02  156.91  147.23  ...  1107947       0.0            0  122.34   \n",
       "2018-10-03  164.66  148.68  ...   919541       0.0            0  123.40   \n",
       "2018-10-04  150.86  140.45  ...   690451       0.0            0  122.78   \n",
       "2018-10-05  144.81  135.61  ...   741961       0.0            0  121.47   \n",
       "2018-10-08  138.51  133.67  ...   605639       0.0            0  119.32   \n",
       "\n",
       "                                                                   \n",
       "              High     Low   Close  Volume Dividends Stock Splits  \n",
       "Date                                                               \n",
       "2018-10-02  127.96  120.50  121.91   86008       0.0            0  \n",
       "2018-10-03  125.90  121.47  122.78  152360       0.0            0  \n",
       "2018-10-04  125.37  120.59  122.78  126659       0.0            0  \n",
       "2018-10-05  123.66  119.27  119.27  132525       0.0            0  \n",
       "2018-10-08  123.66  119.32  122.34   72995       0.0            0  \n",
       "\n",
       "[5 rows x 84 columns]"
      ]
     },
     "execution_count": 3,
     "metadata": {},
     "output_type": "execute_result"
    }
   ],
   "source": [
    "data = pd.read_pickle(\"data/2y_tickers.pkl\")\n",
    "data.head()"
   ]
  },
  {
   "cell_type": "code",
   "execution_count": 4,
   "metadata": {},
   "outputs": [],
   "source": [
    "tickers = [\"ALUA\",\n",
    "\"BBAR\",\n",
    "\"BHIP\",\n",
    "\"BMA\",\n",
    "\"CEPU\",\n",
    "\"CVH\",\n",
    "\"EDN\",\n",
    "\"GGAL\",\n",
    "\"LOMA\",\n",
    "\"PAMP\",\n",
    "\"SUPV\",\n",
    "\"TECO2\"]"
   ]
  },
  {
   "cell_type": "code",
   "execution_count": 5,
   "metadata": {},
   "outputs": [
    {
     "data": {
      "text/html": [
       "<div>\n",
       "<style scoped>\n",
       "    .dataframe tbody tr th:only-of-type {\n",
       "        vertical-align: middle;\n",
       "    }\n",
       "\n",
       "    .dataframe tbody tr th {\n",
       "        vertical-align: top;\n",
       "    }\n",
       "\n",
       "    .dataframe thead th {\n",
       "        text-align: right;\n",
       "    }\n",
       "</style>\n",
       "<table border=\"1\" class=\"dataframe\">\n",
       "  <thead>\n",
       "    <tr style=\"text-align: right;\">\n",
       "      <th></th>\n",
       "      <th>Date</th>\n",
       "      <th>Open</th>\n",
       "      <th>High</th>\n",
       "      <th>Low</th>\n",
       "      <th>Close</th>\n",
       "      <th>Volume</th>\n",
       "      <th>Dividends</th>\n",
       "      <th>Stock Splits</th>\n",
       "      <th>Ticker</th>\n",
       "    </tr>\n",
       "  </thead>\n",
       "  <tbody>\n",
       "    <tr>\n",
       "      <th>5039</th>\n",
       "      <td>2019-05-29</td>\n",
       "      <td>48.59</td>\n",
       "      <td>49.60</td>\n",
       "      <td>46.57</td>\n",
       "      <td>49.51</td>\n",
       "      <td>809686</td>\n",
       "      <td>0.0</td>\n",
       "      <td>0</td>\n",
       "      <td>SUPV</td>\n",
       "    </tr>\n",
       "    <tr>\n",
       "      <th>4984</th>\n",
       "      <td>2019-03-07</td>\n",
       "      <td>55.75</td>\n",
       "      <td>59.23</td>\n",
       "      <td>54.71</td>\n",
       "      <td>57.42</td>\n",
       "      <td>1219754</td>\n",
       "      <td>0.0</td>\n",
       "      <td>0</td>\n",
       "      <td>SUPV</td>\n",
       "    </tr>\n",
       "    <tr>\n",
       "      <th>1379</th>\n",
       "      <td>2020-06-02</td>\n",
       "      <td>9.45</td>\n",
       "      <td>9.80</td>\n",
       "      <td>9.45</td>\n",
       "      <td>9.80</td>\n",
       "      <td>258706</td>\n",
       "      <td>0.0</td>\n",
       "      <td>0</td>\n",
       "      <td>BHIP</td>\n",
       "    </tr>\n",
       "    <tr>\n",
       "      <th>2822</th>\n",
       "      <td>2020-04-30</td>\n",
       "      <td>395.53</td>\n",
       "      <td>397.51</td>\n",
       "      <td>361.42</td>\n",
       "      <td>382.68</td>\n",
       "      <td>18740</td>\n",
       "      <td>0.0</td>\n",
       "      <td>0</td>\n",
       "      <td>CVH</td>\n",
       "    </tr>\n",
       "    <tr>\n",
       "      <th>2250</th>\n",
       "      <td>2019-12-19</td>\n",
       "      <td>33.00</td>\n",
       "      <td>34.00</td>\n",
       "      <td>32.55</td>\n",
       "      <td>33.95</td>\n",
       "      <td>1105791</td>\n",
       "      <td>0.0</td>\n",
       "      <td>0</td>\n",
       "      <td>CEPU</td>\n",
       "    </tr>\n",
       "  </tbody>\n",
       "</table>\n",
       "</div>"
      ],
      "text/plain": [
       "           Date    Open    High     Low   Close   Volume  Dividends  \\\n",
       "5039 2019-05-29   48.59   49.60   46.57   49.51   809686        0.0   \n",
       "4984 2019-03-07   55.75   59.23   54.71   57.42  1219754        0.0   \n",
       "1379 2020-06-02    9.45    9.80    9.45    9.80   258706        0.0   \n",
       "2822 2020-04-30  395.53  397.51  361.42  382.68    18740        0.0   \n",
       "2250 2019-12-19   33.00   34.00   32.55   33.95  1105791        0.0   \n",
       "\n",
       "      Stock Splits Ticker  \n",
       "5039             0   SUPV  \n",
       "4984             0   SUPV  \n",
       "1379             0   BHIP  \n",
       "2822             0    CVH  \n",
       "2250             0   CEPU  "
      ]
     },
     "execution_count": 5,
     "metadata": {},
     "output_type": "execute_result"
    }
   ],
   "source": [
    "tickers_data = []\n",
    "\n",
    "for ticker in tickers:\n",
    "    ticker_data = data[ticker].copy().reset_index()\n",
    "    ticker_data[\"Ticker\"] = ticker\n",
    "    tickers_data.append(ticker_data)\n",
    "    \n",
    "dataset = pd.concat(tickers_data, ignore_index = True)\n",
    "\n",
    "dataset.sample(5)"
   ]
  },
  {
   "cell_type": "markdown",
   "metadata": {},
   "source": [
    "## Calculamos indicadores"
   ]
  },
  {
   "cell_type": "markdown",
   "metadata": {},
   "source": [
    "### Compute Moving Average Convergence/Divergence (MACD)"
   ]
  },
  {
   "cell_type": "code",
   "execution_count": 6,
   "metadata": {},
   "outputs": [],
   "source": [
    "def compute_macd(close):\n",
    "    macd = MACD(close)[0]\n",
    "    return macd.sub(macd.mean()).div(macd.std())\n",
    "\n",
    "dataset[\"MACD\"] = dataset.groupby('Ticker').Close.apply(compute_macd)"
   ]
  },
  {
   "cell_type": "code",
   "execution_count": 7,
   "metadata": {},
   "outputs": [
    {
     "data": {
      "text/plain": [
       "<seaborn.axisgrid.FacetGrid at 0x29f7c8bdc88>"
      ]
     },
     "execution_count": 7,
     "metadata": {},
     "output_type": "execute_result"
    },
    {
     "data": {
      "image/png": "[encoded data removed]",
      "text/plain": [
       "<Figure size 429.25x360 with 1 Axes>"
      ]
     },
     "metadata": {
      "needs_background": "light"
     },
     "output_type": "display_data"
    }
   ],
   "source": [
    "sns.displot(data = dataset, x = \"MACD\", hue = \"Ticker\", kind = \"kde\")"
   ]
  },
  {
   "cell_type": "markdown",
   "metadata": {},
   "source": [
    "### Relative Strength Index (RSI)"
   ]
  },
  {
   "cell_type": "code",
   "execution_count": 8,
   "metadata": {},
   "outputs": [],
   "source": [
    "dataset[\"RSI\"] = dataset.groupby('Ticker').Close.apply(RSI)"
   ]
  },
  {
   "cell_type": "code",
   "execution_count": 9,
   "metadata": {},
   "outputs": [
    {
     "data": {
      "text/plain": [
       "<seaborn.axisgrid.FacetGrid at 0x29f7fd42d08>"
      ]
     },
     "execution_count": 9,
     "metadata": {},
     "output_type": "execute_result"
    },
    {
     "data": {
      "image/png": "[encoded data removed]",
      "text/plain": [
       "<Figure size 429.25x360 with 1 Axes>"
      ]
     },
     "metadata": {
      "needs_background": "light"
     },
     "output_type": "display_data"
    }
   ],
   "source": [
    "sns.displot(data = dataset, x = \"RSI\", hue = \"Ticker\", kind = \"kde\")"
   ]
  },
  {
   "cell_type": "markdown",
   "metadata": {},
   "source": [
    "### Bollinger Bands"
   ]
  },
  {
   "cell_type": "code",
   "execution_count": 10,
   "metadata": {},
   "outputs": [],
   "source": [
    "def compute_bb(close):\n",
    "    high, mid, low = BBANDS(np.log1p(close), timeperiod=20)\n",
    "    return pd.DataFrame({'BB_High': high, 'BB_Mid': mid, 'BB_Low': low}, index=close.index)"
   ]
  },
  {
   "cell_type": "code",
   "execution_count": 11,
   "metadata": {},
   "outputs": [],
   "source": [
    "bollinger_bands = dataset.groupby('Ticker').Close.apply(compute_bb)\n",
    "dataset = dataset.join(bollinger_bands)"
   ]
  },
  {
   "cell_type": "code",
   "execution_count": 12,
   "metadata": {},
   "outputs": [
    {
     "data": {
      "text/plain": [
       "<seaborn.axisgrid.FacetGrid at 0x29f7fd89148>"
      ]
     },
     "execution_count": 12,
     "metadata": {},
     "output_type": "execute_result"
    },
    {
     "data": {
      "image/png": "[encoded data removed]",
      "text/plain": [
       "<Figure size 429.25x360 with 1 Axes>"
      ]
     },
     "metadata": {
      "needs_background": "light"
     },
     "output_type": "display_data"
    }
   ],
   "source": [
    "sns.displot(data = dataset, x = \"BB_Mid\", hue = \"Ticker\", kind = \"kde\")"
   ]
  },
  {
   "cell_type": "markdown",
   "metadata": {},
   "source": [
    "### Average True Range"
   ]
  },
  {
   "cell_type": "code",
   "execution_count": 13,
   "metadata": {},
   "outputs": [],
   "source": [
    "def compute_atr(stock_data):\n",
    "    atr = ATR(stock_data.High, \n",
    "              stock_data.Low, \n",
    "              stock_data.Close, \n",
    "              timeperiod=14)\n",
    "    return atr.sub(atr.mean()).div(atr.std())"
   ]
  },
  {
   "cell_type": "code",
   "execution_count": 14,
   "metadata": {},
   "outputs": [],
   "source": [
    "dataset[\"ATR\"] = dataset.groupby(\"Ticker\", group_keys=False).apply(compute_atr)"
   ]
  },
  {
   "cell_type": "markdown",
   "metadata": {},
   "source": [
    "### Normalized average true range"
   ]
  },
  {
   "cell_type": "code",
   "execution_count": 15,
   "metadata": {},
   "outputs": [],
   "source": [
    "dataset[\"NATR\"] = dataset.groupby(\"Ticker\", group_keys=False).apply(lambda x: NATR(high=x.High, low=x.Low, close=x.Close))"
   ]
  },
  {
   "cell_type": "code",
   "execution_count": 16,
   "metadata": {},
   "outputs": [
    {
     "data": {
      "image/png": "[encoded data removed]",
      "text/plain": [
       "<Figure size 432x288 with 1 Axes>"
      ]
     },
     "metadata": {
      "needs_background": "light"
     },
     "output_type": "display_data"
    }
   ],
   "source": [
    "sns.histplot(dataset.NATR[dataset.NATR<10]);"
   ]
  },
  {
   "cell_type": "markdown",
   "metadata": {},
   "source": [
    "### Volumen en moneda"
   ]
  },
  {
   "cell_type": "code",
   "execution_count": 17,
   "metadata": {},
   "outputs": [],
   "source": [
    "dataset[\"Currency_Volume\"] = dataset.loc[:, 'Close'].mul(dataset.loc[:, 'Volume'], axis=0)"
   ]
  },
  {
   "cell_type": "code",
   "execution_count": 18,
   "metadata": {},
   "outputs": [
    {
     "data": {
      "text/plain": [
       "<AxesSubplot:xlabel='Currency_Volume', ylabel='Count'>"
      ]
     },
     "execution_count": 18,
     "metadata": {},
     "output_type": "execute_result"
    },
    {
     "data": {
      "image/png": "[encoded data removed]",
      "text/plain": [
       "<Figure size 432x288 with 1 Axes>"
      ]
     },
     "metadata": {
      "needs_background": "light"
     },
     "output_type": "display_data"
    }
   ],
   "source": [
    "sns.histplot(data = dataset[dataset.Ticker == \"ALUA\"], x = \"Currency_Volume\")"
   ]
  },
  {
   "cell_type": "markdown",
   "metadata": {},
   "source": [
    "### Retorno mensual, bimensual y trimestral"
   ]
  },
  {
   "cell_type": "code",
   "execution_count": 19,
   "metadata": {},
   "outputs": [],
   "source": [
    "def remove_outliers(x):\n",
    "    return x.clip(lower=x.quantile(0.01), upper=x.quantile(0.99))"
   ]
  },
  {
   "cell_type": "code",
   "execution_count": 20,
   "metadata": {},
   "outputs": [],
   "source": [
    "dataset[\"Return_1m\"] = dataset.sort_index().groupby(\"Ticker\").Close.pct_change(30).pipe(remove_outliers)\n",
    "dataset[\"Return_2m\"] = dataset.sort_index().groupby(\"Ticker\").Close.pct_change(60).pipe(remove_outliers)\n",
    "dataset[\"Return_3m\"] = dataset.sort_index().groupby(\"Ticker\").Close.pct_change(90).pipe(remove_outliers)"
   ]
  },
  {
   "cell_type": "code",
   "execution_count": 21,
   "metadata": {},
   "outputs": [
    {
     "data": {
      "text/plain": [
       "<seaborn.axisgrid.FacetGrid at 0x29f000bdd08>"
      ]
     },
     "execution_count": 21,
     "metadata": {},
     "output_type": "execute_result"
    },
    {
     "data": {
      "image/png": "[encoded data removed]",
      "text/plain": [
       "<Figure size 360x360 with 1 Axes>"
      ]
     },
     "metadata": {
      "needs_background": "light"
     },
     "output_type": "display_data"
    }
   ],
   "source": [
    "sns.displot(data = dataset[dataset.Ticker == \"ALUA\"], x = \"Return_1m\")"
   ]
  },
  {
   "cell_type": "code",
   "execution_count": 22,
   "metadata": {},
   "outputs": [
    {
     "data": {
      "text/plain": [
       "<seaborn.axisgrid.FacetGrid at 0x29f00213688>"
      ]
     },
     "execution_count": 22,
     "metadata": {},
     "output_type": "execute_result"
    },
    {
     "data": {
      "image/png": "[encoded data removed]",
      "text/plain": [
       "<Figure size 360x360 with 1 Axes>"
      ]
     },
     "metadata": {
      "needs_background": "light"
     },
     "output_type": "display_data"
    }
   ],
   "source": [
    "sns.displot(data = dataset[dataset.Ticker == \"ALUA\"], x = \"Return_2m\")"
   ]
  },
  {
   "cell_type": "code",
   "execution_count": 23,
   "metadata": {},
   "outputs": [
    {
     "data": {
      "text/plain": [
       "<seaborn.axisgrid.FacetGrid at 0x29f7ffb2408>"
      ]
     },
     "execution_count": 23,
     "metadata": {},
     "output_type": "execute_result"
    },
    {
     "data": {
      "image/png": "[encoded data removed]",
      "text/plain": [
       "<Figure size 360x360 with 1 Axes>"
      ]
     },
     "metadata": {
      "needs_background": "light"
     },
     "output_type": "display_data"
    }
   ],
   "source": [
    "sns.displot(data = dataset[dataset.Ticker == \"ALUA\"], x = \"Return_3m\")"
   ]
  },
  {
   "cell_type": "markdown",
   "metadata": {},
   "source": [
    "### Feature de fechas"
   ]
  },
  {
   "cell_type": "code",
   "execution_count": 24,
   "metadata": {},
   "outputs": [],
   "source": [
    "dataset['Year'] = dataset.Date.apply(lambda x: x.year)\n",
    "dataset['Month'] = dataset.Date.apply(lambda x: x.month)\n",
    "dataset['Weekday'] = dataset.Date.apply(lambda x: x.weekday())"
   ]
  },
  {
   "cell_type": "markdown",
   "metadata": {},
   "source": [
    "### Confección de target con features"
   ]
  },
  {
   "cell_type": "markdown",
   "metadata": {},
   "source": [
    "Utilizando el % de diferencia a 1, 2 y 3 meses confeccionamos el target, moviendo el periodo de holding hacia el pasado."
   ]
  },
  {
   "cell_type": "code",
   "execution_count": 25,
   "metadata": {},
   "outputs": [],
   "source": [
    "dataset[\"Forward_Return_1m\"] = dataset.groupby('Ticker')[f'Return_1m'].shift(-30)\n",
    "dataset[\"Forward_Return_2m\"] = dataset.groupby('Ticker')[f'Return_2m'].shift(-60)\n",
    "dataset[\"Forward_Return_3m\"] = dataset.groupby('Ticker')[f'Return_3m'].shift(-90)"
   ]
  },
  {
   "cell_type": "markdown",
   "metadata": {},
   "source": [
    "### Salvado de los datos"
   ]
  },
  {
   "cell_type": "code",
   "execution_count": 26,
   "metadata": {},
   "outputs": [
    {
     "data": {
      "text/plain": [
       "(5856, 26)"
      ]
     },
     "execution_count": 26,
     "metadata": {},
     "output_type": "execute_result"
    }
   ],
   "source": [
    "dataset.shape"
   ]
  },
  {
   "cell_type": "code",
   "execution_count": 27,
   "metadata": {},
   "outputs": [
    {
     "data": {
      "text/plain": [
       "Date                    0\n",
       "Open                    0\n",
       "High                    0\n",
       "Low                     0\n",
       "Close                   0\n",
       "Volume                  0\n",
       "Dividends               0\n",
       "Stock Splits            0\n",
       "Ticker                  0\n",
       "Weekday                 0\n",
       "Month                   0\n",
       "Year                    0\n",
       "Currency_Volume         0\n",
       "RSI                   168\n",
       "ATR                   168\n",
       "NATR                  168\n",
       "BB_Mid                228\n",
       "BB_High               228\n",
       "BB_Low                228\n",
       "Return_1m             360\n",
       "Forward_Return_1m     360\n",
       "MACD                  396\n",
       "Return_2m             720\n",
       "Forward_Return_2m     720\n",
       "Return_3m            1080\n",
       "Forward_Return_3m    1080\n",
       "dtype: int64"
      ]
     },
     "execution_count": 27,
     "metadata": {},
     "output_type": "execute_result"
    }
   ],
   "source": [
    "dataset.isnull().sum().sort_values()"
   ]
  },
  {
   "cell_type": "code",
   "execution_count": 28,
   "metadata": {},
   "outputs": [
    {
     "name": "stdout",
     "output_type": "stream",
     "text": [
      "<class 'pandas.core.frame.DataFrame'>\n",
      "RangeIndex: 5856 entries, 0 to 5855\n",
      "Data columns (total 26 columns):\n",
      " #   Column             Non-Null Count  Dtype         \n",
      "---  ------             --------------  -----         \n",
      " 0   Date               5856 non-null   datetime64[ns]\n",
      " 1   Open               5856 non-null   float64       \n",
      " 2   High               5856 non-null   float64       \n",
      " 3   Low                5856 non-null   float64       \n",
      " 4   Close              5856 non-null   float64       \n",
      " 5   Volume             5856 non-null   int64         \n",
      " 6   Dividends          5856 non-null   float64       \n",
      " 7   Stock Splits       5856 non-null   int64         \n",
      " 8   Ticker             5856 non-null   object        \n",
      " 9   MACD               5460 non-null   float64       \n",
      " 10  RSI                5688 non-null   float64       \n",
      " 11  BB_High            5628 non-null   float64       \n",
      " 12  BB_Mid             5628 non-null   float64       \n",
      " 13  BB_Low             5628 non-null   float64       \n",
      " 14  ATR                5688 non-null   float64       \n",
      " 15  NATR               5688 non-null   float64       \n",
      " 16  Currency_Volume    5856 non-null   float64       \n",
      " 17  Return_1m          5496 non-null   float64       \n",
      " 18  Return_2m          5136 non-null   float64       \n",
      " 19  Return_3m          4776 non-null   float64       \n",
      " 20  Year               5856 non-null   int64         \n",
      " 21  Month              5856 non-null   int64         \n",
      " 22  Weekday            5856 non-null   int64         \n",
      " 23  Forward_Return_1m  5496 non-null   float64       \n",
      " 24  Forward_Return_2m  5136 non-null   float64       \n",
      " 25  Forward_Return_3m  4776 non-null   float64       \n",
      "dtypes: datetime64[ns](1), float64(19), int64(5), object(1)\n",
      "memory usage: 1.2+ MB\n"
     ]
    }
   ],
   "source": [
    "dataset.info(null_counts = True)"
   ]
  },
  {
   "cell_type": "code",
   "execution_count": 29,
   "metadata": {},
   "outputs": [],
   "source": [
    "dataset.dropna(inplace = True)"
   ]
  },
  {
   "cell_type": "code",
   "execution_count": 30,
   "metadata": {},
   "outputs": [
    {
     "data": {
      "text/plain": [
       "Date                 0\n",
       "Open                 0\n",
       "High                 0\n",
       "Low                  0\n",
       "Close                0\n",
       "Volume               0\n",
       "Dividends            0\n",
       "Stock Splits         0\n",
       "Ticker               0\n",
       "MACD                 0\n",
       "RSI                  0\n",
       "BB_High              0\n",
       "BB_Mid               0\n",
       "BB_Low               0\n",
       "ATR                  0\n",
       "NATR                 0\n",
       "Currency_Volume      0\n",
       "Return_1m            0\n",
       "Return_2m            0\n",
       "Return_3m            0\n",
       "Year                 0\n",
       "Month                0\n",
       "Weekday              0\n",
       "Forward_Return_1m    0\n",
       "Forward_Return_2m    0\n",
       "Forward_Return_3m    0\n",
       "dtype: int64"
      ]
     },
     "execution_count": 30,
     "metadata": {},
     "output_type": "execute_result"
    }
   ],
   "source": [
    "dataset.isnull().sum()"
   ]
  },
  {
   "cell_type": "code",
   "execution_count": null,
   "metadata": {},
   "outputs": [],
   "source": [
    "dataset.set_index(\"Date\", inplace = True)"
   ]
  },
  {
   "cell_type": "code",
   "execution_count": 1,
   "metadata": {},
   "outputs": [
    {
     "ename": "NameError",
     "evalue": "name 'dataset' is not defined",
     "output_type": "error",
     "traceback": [
      "\u001b[1;31m---------------------------------------------------------------------------\u001b[0m",
      "\u001b[1;31mNameError\u001b[0m                                 Traceback (most recent call last)",
      "\u001b[1;32m<ipython-input-1-f745181e6d92>\u001b[0m in \u001b[0;36m<module>\u001b[1;34m\u001b[0m\n\u001b[1;32m----> 1\u001b[1;33m \u001b[0mdataset\u001b[0m\u001b[1;33m.\u001b[0m\u001b[0mindex_by\u001b[0m\u001b[1;33m(\u001b[0m\u001b[1;34m\"Date\"\u001b[0m\u001b[1;33m)\u001b[0m\u001b[1;33m.\u001b[0m\u001b[0mto_pickle\u001b[0m\u001b[1;33m(\u001b[0m\u001b[1;34m\"data/2y_tickers_features.pkl\"\u001b[0m\u001b[1;33m)\u001b[0m\u001b[1;33m\u001b[0m\u001b[1;33m\u001b[0m\u001b[0m\n\u001b[0m",
      "\u001b[1;31mNameError\u001b[0m: name 'dataset' is not defined"
     ]
    }
   ],
   "source": [
    "dataset.to_pickle(\"data/2y_tickers_features.pkl\")"
   ]
  },
  {
   "cell_type": "code",
   "execution_count": null,
   "metadata": {},
   "outputs": [],
   "source": []
  }
 ],
 "metadata": {
  "kernelspec": {
   "display_name": "Python 3",
   "language": "python",
   "name": "python3"
  },
  "language_info": {
   "codemirror_mode": {
    "name": "ipython",
    "version": 3
   },
   "file_extension": ".py",
   "mimetype": "text/x-python",
   "name": "python",
   "nbconvert_exporter": "python",
   "pygments_lexer": "ipython3",
   "version": "3.7.8"
  }
 },
 "nbformat": 4,
 "nbformat_minor": 4
}
