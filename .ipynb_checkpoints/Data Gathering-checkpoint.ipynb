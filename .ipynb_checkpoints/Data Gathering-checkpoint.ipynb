{
 "cells": [
  {
   "cell_type": "markdown",
   "metadata": {},
   "source": [
    "# Data gathering"
   ]
  },
  {
   "cell_type": "markdown",
   "metadata": {},
   "source": [
    "## Activos de interés"
   ]
  },
  {
   "cell_type": "code",
   "execution_count": 1,
   "metadata": {},
   "outputs": [],
   "source": [
    "# Banco Santander Rio - A, ARBRIO010186, BRIO5\n",
    "# Petrobras, BRPETRACNOR9, PBR"
   ]
  },
  {
   "cell_type": "code",
   "execution_count": 2,
   "metadata": {},
   "outputs": [],
   "source": [
    "assets = \"\"\"Aluar, ARALUA010258, ALUA\n",
    "Banco BBVA Argentina, ARP125991090, BBAR\n",
    "Banco Hipotecario - D, ARBHIP010161, BHIP\n",
    "Banco Macro - B, ARBANS010010, BMA\n",
    "Central Puerto, ARP2354W1188, CEPU\n",
    "Cablevision Holding - B, ARCABH300011, CVH\n",
    "Edenor - B, ARENOR010020, EDN\n",
    "Grupo Financiero Galicia - B, ARP495251018, GGAL\n",
    "Loma Negra, ARLOMA300018, LOMA\n",
    "Pampa Energia, ARP432631215, PAMP\n",
    "Grupo Supervielle - B, ARGRSU300079, SUPV\n",
    "Telecom Argentina - B, ARP9028N1016, TECO2\"\"\".split(\"\\n\")"
   ]
  },
  {
   "cell_type": "code",
   "execution_count": 3,
   "metadata": {},
   "outputs": [
    {
     "data": {
      "text/markdown": [
       "* Aluar\n",
       "* Banco BBVA Argentina\n",
       "* Banco Hipotecario - D\n",
       "* Banco Macro - B\n",
       "* Central Puerto\n",
       "* Cablevision Holding - B\n",
       "* Edenor - B\n",
       "* Grupo Financiero Galicia - B\n",
       "* Loma Negra\n",
       "* Pampa Energia\n",
       "* Grupo Supervielle - B\n",
       "* Telecom Argentina - B\n"
      ],
      "text/plain": [
       "<IPython.core.display.Markdown object>"
      ]
     },
     "metadata": {},
     "output_type": "display_data"
    }
   ],
   "source": [
    "from IPython.display import display, Markdown\n",
    "names = [x.split(\",\")[0] for x in assets]\n",
    "to_display = \"\"\n",
    "for name in names:\n",
    "    to_display = to_display + f\"* {name}\\n\"\n",
    "display(Markdown(to_display))"
   ]
  },
  {
   "cell_type": "code",
   "execution_count": 4,
   "metadata": {},
   "outputs": [
    {
     "data": {
      "text/markdown": [
       "* ALUA\n",
       "* BBAR\n",
       "* BHIP\n",
       "* BMA\n",
       "* CEPU\n",
       "* CVH\n",
       "* EDN\n",
       "* GGAL\n",
       "* LOMA\n",
       "* PAMP\n",
       "* SUPV\n",
       "* TECO2\n"
      ],
      "text/plain": [
       "<IPython.core.display.Markdown object>"
      ]
     },
     "metadata": {},
     "output_type": "display_data"
    }
   ],
   "source": [
    "tickers = [x.split(\",\")[2].strip() for x in assets]\n",
    "to_display = \"\"\n",
    "for ticker in tickers:\n",
    "    to_display = to_display + f\"* {ticker}\\n\"\n",
    "display(Markdown(to_display))"
   ]
  },
  {
   "cell_type": "markdown",
   "metadata": {},
   "source": [
    "## Obtenemos datos diarios de estos tickers"
   ]
  },
  {
   "cell_type": "code",
   "execution_count": 5,
   "metadata": {},
   "outputs": [],
   "source": [
    "import yfinance as yf\n",
    "import pandas as pd"
   ]
  },
  {
   "cell_type": "code",
   "execution_count": 6,
   "metadata": {},
   "outputs": [
    {
     "data": {
      "text/plain": [
       "['ALUA.BA',\n",
       " 'BBAR.BA',\n",
       " 'BHIP.BA',\n",
       " 'BMA.BA',\n",
       " 'CEPU.BA',\n",
       " 'CVH.BA',\n",
       " 'EDN.BA',\n",
       " 'GGAL.BA',\n",
       " 'LOMA.BA',\n",
       " 'PAMP.BA',\n",
       " 'SUPV.BA',\n",
       " 'TECO2.BA']"
      ]
     },
     "execution_count": 6,
     "metadata": {},
     "output_type": "execute_result"
    }
   ],
   "source": [
    "international_tickers = [f\"{ticker}.BA\" for ticker in tickers]\n",
    "international_tickers"
   ]
  },
  {
   "cell_type": "markdown",
   "metadata": {},
   "source": [
    "Obtengo data de 2 años de Yahoo Finance"
   ]
  },
  {
   "cell_type": "code",
   "execution_count": 7,
   "metadata": {},
   "outputs": [],
   "source": [
    "tickers_data = []\n",
    "for international_ticker in international_tickers:\n",
    "    yf_tickers = yf.Ticker(international_ticker)\n",
    "    tickers_data.append(yf_tickers.history(period=\"2y\", intervall = \"1d\"))"
   ]
  },
  {
   "cell_type": "markdown",
   "metadata": {},
   "source": [
    "Hago un dataset con velas diarias de estos tickers"
   ]
  },
  {
   "cell_type": "code",
   "execution_count": 8,
   "metadata": {},
   "outputs": [],
   "source": [
    "data = pd.concat(tickers_data, axis = 1, keys = tickers)"
   ]
  },
  {
   "cell_type": "code",
   "execution_count": 9,
   "metadata": {},
   "outputs": [
    {
     "data": {
      "text/html": [
       "<div>\n",
       "<style scoped>\n",
       "    .dataframe tbody tr th:only-of-type {\n",
       "        vertical-align: middle;\n",
       "    }\n",
       "\n",
       "    .dataframe tbody tr th {\n",
       "        vertical-align: top;\n",
       "    }\n",
       "\n",
       "    .dataframe thead tr th {\n",
       "        text-align: left;\n",
       "    }\n",
       "\n",
       "    .dataframe thead tr:last-of-type th {\n",
       "        text-align: right;\n",
       "    }\n",
       "</style>\n",
       "<table border=\"1\" class=\"dataframe\">\n",
       "  <thead>\n",
       "    <tr>\n",
       "      <th></th>\n",
       "      <th colspan=\"7\" halign=\"left\">ALUA</th>\n",
       "      <th colspan=\"3\" halign=\"left\">BBAR</th>\n",
       "      <th>...</th>\n",
       "      <th colspan=\"3\" halign=\"left\">SUPV</th>\n",
       "      <th colspan=\"7\" halign=\"left\">TECO2</th>\n",
       "    </tr>\n",
       "    <tr>\n",
       "      <th></th>\n",
       "      <th>Open</th>\n",
       "      <th>High</th>\n",
       "      <th>Low</th>\n",
       "      <th>Close</th>\n",
       "      <th>Volume</th>\n",
       "      <th>Dividends</th>\n",
       "      <th>Stock Splits</th>\n",
       "      <th>Open</th>\n",
       "      <th>High</th>\n",
       "      <th>Low</th>\n",
       "      <th>...</th>\n",
       "      <th>Volume</th>\n",
       "      <th>Dividends</th>\n",
       "      <th>Stock Splits</th>\n",
       "      <th>Open</th>\n",
       "      <th>High</th>\n",
       "      <th>Low</th>\n",
       "      <th>Close</th>\n",
       "      <th>Volume</th>\n",
       "      <th>Dividends</th>\n",
       "      <th>Stock Splits</th>\n",
       "    </tr>\n",
       "    <tr>\n",
       "      <th>Date</th>\n",
       "      <th></th>\n",
       "      <th></th>\n",
       "      <th></th>\n",
       "      <th></th>\n",
       "      <th></th>\n",
       "      <th></th>\n",
       "      <th></th>\n",
       "      <th></th>\n",
       "      <th></th>\n",
       "      <th></th>\n",
       "      <th></th>\n",
       "      <th></th>\n",
       "      <th></th>\n",
       "      <th></th>\n",
       "      <th></th>\n",
       "      <th></th>\n",
       "      <th></th>\n",
       "      <th></th>\n",
       "      <th></th>\n",
       "      <th></th>\n",
       "      <th></th>\n",
       "    </tr>\n",
       "  </thead>\n",
       "  <tbody>\n",
       "    <tr>\n",
       "      <th>2018-10-02</th>\n",
       "      <td>19.96</td>\n",
       "      <td>20.53</td>\n",
       "      <td>19.44</td>\n",
       "      <td>19.77</td>\n",
       "      <td>630425</td>\n",
       "      <td>0.0</td>\n",
       "      <td>0</td>\n",
       "      <td>152.17</td>\n",
       "      <td>156.91</td>\n",
       "      <td>147.23</td>\n",
       "      <td>...</td>\n",
       "      <td>1107947</td>\n",
       "      <td>0.0</td>\n",
       "      <td>0</td>\n",
       "      <td>122.34</td>\n",
       "      <td>127.96</td>\n",
       "      <td>120.50</td>\n",
       "      <td>121.91</td>\n",
       "      <td>86008</td>\n",
       "      <td>0.0</td>\n",
       "      <td>0</td>\n",
       "    </tr>\n",
       "    <tr>\n",
       "      <th>2018-10-03</th>\n",
       "      <td>19.68</td>\n",
       "      <td>21.00</td>\n",
       "      <td>19.39</td>\n",
       "      <td>20.44</td>\n",
       "      <td>857202</td>\n",
       "      <td>0.0</td>\n",
       "      <td>0</td>\n",
       "      <td>157.88</td>\n",
       "      <td>164.66</td>\n",
       "      <td>148.68</td>\n",
       "      <td>...</td>\n",
       "      <td>919541</td>\n",
       "      <td>0.0</td>\n",
       "      <td>0</td>\n",
       "      <td>123.40</td>\n",
       "      <td>125.90</td>\n",
       "      <td>121.47</td>\n",
       "      <td>122.78</td>\n",
       "      <td>152360</td>\n",
       "      <td>0.0</td>\n",
       "      <td>0</td>\n",
       "    </tr>\n",
       "    <tr>\n",
       "      <th>2018-10-04</th>\n",
       "      <td>21.00</td>\n",
       "      <td>21.29</td>\n",
       "      <td>20.25</td>\n",
       "      <td>20.39</td>\n",
       "      <td>708669</td>\n",
       "      <td>0.0</td>\n",
       "      <td>0</td>\n",
       "      <td>150.86</td>\n",
       "      <td>150.86</td>\n",
       "      <td>140.45</td>\n",
       "      <td>...</td>\n",
       "      <td>690451</td>\n",
       "      <td>0.0</td>\n",
       "      <td>0</td>\n",
       "      <td>122.78</td>\n",
       "      <td>125.37</td>\n",
       "      <td>120.59</td>\n",
       "      <td>122.78</td>\n",
       "      <td>126659</td>\n",
       "      <td>0.0</td>\n",
       "      <td>0</td>\n",
       "    </tr>\n",
       "  </tbody>\n",
       "</table>\n",
       "<p>3 rows × 84 columns</p>\n",
       "</div>"
      ],
      "text/plain": [
       "             ALUA                                                        BBAR  \\\n",
       "             Open   High    Low  Close  Volume Dividends Stock Splits    Open   \n",
       "Date                                                                            \n",
       "2018-10-02  19.96  20.53  19.44  19.77  630425       0.0            0  152.17   \n",
       "2018-10-03  19.68  21.00  19.39  20.44  857202       0.0            0  157.88   \n",
       "2018-10-04  21.00  21.29  20.25  20.39  708669       0.0            0  150.86   \n",
       "\n",
       "                            ...     SUPV                          TECO2  \\\n",
       "              High     Low  ...   Volume Dividends Stock Splits    Open   \n",
       "Date                        ...                                           \n",
       "2018-10-02  156.91  147.23  ...  1107947       0.0            0  122.34   \n",
       "2018-10-03  164.66  148.68  ...   919541       0.0            0  123.40   \n",
       "2018-10-04  150.86  140.45  ...   690451       0.0            0  122.78   \n",
       "\n",
       "                                                                   \n",
       "              High     Low   Close  Volume Dividends Stock Splits  \n",
       "Date                                                               \n",
       "2018-10-02  127.96  120.50  121.91   86008       0.0            0  \n",
       "2018-10-03  125.90  121.47  122.78  152360       0.0            0  \n",
       "2018-10-04  125.37  120.59  122.78  126659       0.0            0  \n",
       "\n",
       "[3 rows x 84 columns]"
      ]
     },
     "execution_count": 9,
     "metadata": {},
     "output_type": "execute_result"
    }
   ],
   "source": [
    "data.head(3)"
   ]
  },
  {
   "cell_type": "code",
   "execution_count": 79,
   "metadata": {},
   "outputs": [],
   "source": [
    "data.to_csv(\"2y_tickers.csv\")"
   ]
  },
  {
   "cell_type": "code",
   "execution_count": 10,
   "metadata": {},
   "outputs": [],
   "source": [
    "data.to_pickle(\"2y_tickers.pkl\")"
   ]
  },
  {
   "cell_type": "code",
   "execution_count": null,
   "metadata": {},
   "outputs": [],
   "source": []
  }
 ],
 "metadata": {
  "kernelspec": {
   "display_name": "Python 3",
   "language": "python",
   "name": "python3"
  },
  "language_info": {
   "codemirror_mode": {
    "name": "ipython",
    "version": 3
   },
   "file_extension": ".py",
   "mimetype": "text/x-python",
   "name": "python",
   "nbconvert_exporter": "python",
   "pygments_lexer": "ipython3",
   "version": "3.7.8"
  }
 },
 "nbformat": 4,
 "nbformat_minor": 4
}
