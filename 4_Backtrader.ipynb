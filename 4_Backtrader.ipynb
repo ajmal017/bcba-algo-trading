{
 "metadata": {
  "language_info": {
   "codemirror_mode": {
    "name": "ipython",
    "version": 3
   },
   "file_extension": ".py",
   "mimetype": "text/x-python",
   "name": "python",
   "nbconvert_exporter": "python",
   "pygments_lexer": "ipython3",
   "version": "3.7.8-final"
  },
  "orig_nbformat": 2,
  "kernelspec": {
   "name": "python3",
   "display_name": "Python 3"
  }
 },
 "nbformat": 4,
 "nbformat_minor": 2,
 "cells": [
  {
   "source": [
    "# Backtrader"
   ],
   "cell_type": "markdown",
   "metadata": {}
  },
  {
   "source": [
    "En esta notebook realizamos una simulacion utilizando los modelos entrenados"
   ],
   "cell_type": "markdown",
   "metadata": {}
  },
  {
   "cell_type": "code",
   "execution_count": 1,
   "metadata": {},
   "outputs": [
    {
     "output_type": "stream",
     "name": "stdout",
     "text": [
      "Requirement already satisfied: backtrader in c:\\users\\carlm\\anaconda3\\envs\\tf_gpu\\lib\\site-packages (1.9.76.123)\n"
     ]
    }
   ],
   "source": [
    "! pip install backtrader;"
   ]
  },
  {
   "cell_type": "code",
   "execution_count": 2,
   "metadata": {},
   "outputs": [],
   "source": [
    "import backtrader as bt\n",
    "import pandas as pd"
   ]
  },
  {
   "source": [
    "Importamos la data de test de los modelos, en todos los casos es la misma data excluyendo el target, consta del 2018 al 2020. Estos son datos que los modelos no han visto."
   ],
   "cell_type": "markdown",
   "metadata": {}
  },
  {
   "cell_type": "code",
   "execution_count": 3,
   "metadata": {},
   "outputs": [
    {
     "output_type": "execute_result",
     "data": {
      "text/plain": [
       "              Open    High     Low   Close      Volume          MACD  \\\n",
       "Date                                                                   \n",
       "2018-07-24  360.50  360.50  360.50  360.50         0.0 -1.705303e-13   \n",
       "2018-07-24    4.99    5.06    4.93    4.99  29389000.0 -3.568515e-02   \n",
       "2018-07-24    5.64    5.74    5.62    5.69    546800.0 -1.256564e-01   \n",
       "\n",
       "                  RSI   BB_High    BB_Mid    BB_Low           ATR  \\\n",
       "Date                                                                \n",
       "2018-07-24   0.000000  5.890262  5.890262  5.890262  3.526296e-25   \n",
       "2018-07-24  54.042247  1.795840  1.753049  1.710258  1.408903e-01   \n",
       "2018-07-24  49.939444  1.926558  1.881268  1.835979  1.809786e-01   \n",
       "\n",
       "                    NATR  Currency_Volume   Adj Close  Month  Weekday  \\\n",
       "Date                                                                    \n",
       "2018-07-24  9.781681e-26     0.000000e+00  358.496796      7        1   \n",
       "2018-07-24  2.823454e+00     1.466511e+08    4.766606      7        1   \n",
       "2018-07-24  3.180644e+00     3.111292e+06    5.248040      7        1   \n",
       "\n",
       "             Ticker Currency  Forward_Return_1m  \n",
       "Date                                             \n",
       "2018-07-24  AMGN.BA      ARS           0.000000  \n",
       "2018-07-24     ABEV      USD          -0.118236  \n",
       "2018-07-24      ELP      USD          -0.128295  "
      ],
      "text/html": "<div>\n<style scoped>\n    .dataframe tbody tr th:only-of-type {\n        vertical-align: middle;\n    }\n\n    .dataframe tbody tr th {\n        vertical-align: top;\n    }\n\n    .dataframe thead th {\n        text-align: right;\n    }\n</style>\n<table border=\"1\" class=\"dataframe\">\n  <thead>\n    <tr style=\"text-align: right;\">\n      <th></th>\n      <th>Open</th>\n      <th>High</th>\n      <th>Low</th>\n      <th>Close</th>\n      <th>Volume</th>\n      <th>MACD</th>\n      <th>RSI</th>\n      <th>BB_High</th>\n      <th>BB_Mid</th>\n      <th>BB_Low</th>\n      <th>ATR</th>\n      <th>NATR</th>\n      <th>Currency_Volume</th>\n      <th>Adj Close</th>\n      <th>Month</th>\n      <th>Weekday</th>\n      <th>Ticker</th>\n      <th>Currency</th>\n      <th>Forward_Return_1m</th>\n    </tr>\n    <tr>\n      <th>Date</th>\n      <th></th>\n      <th></th>\n      <th></th>\n      <th></th>\n      <th></th>\n      <th></th>\n      <th></th>\n      <th></th>\n      <th></th>\n      <th></th>\n      <th></th>\n      <th></th>\n      <th></th>\n      <th></th>\n      <th></th>\n      <th></th>\n      <th></th>\n      <th></th>\n      <th></th>\n    </tr>\n  </thead>\n  <tbody>\n    <tr>\n      <th>2018-07-24</th>\n      <td>360.50</td>\n      <td>360.50</td>\n      <td>360.50</td>\n      <td>360.50</td>\n      <td>0.0</td>\n      <td>-1.705303e-13</td>\n      <td>0.000000</td>\n      <td>5.890262</td>\n      <td>5.890262</td>\n      <td>5.890262</td>\n      <td>3.526296e-25</td>\n      <td>9.781681e-26</td>\n      <td>0.000000e+00</td>\n      <td>358.496796</td>\n      <td>7</td>\n      <td>1</td>\n      <td>AMGN.BA</td>\n      <td>ARS</td>\n      <td>0.000000</td>\n    </tr>\n    <tr>\n      <th>2018-07-24</th>\n      <td>4.99</td>\n      <td>5.06</td>\n      <td>4.93</td>\n      <td>4.99</td>\n      <td>29389000.0</td>\n      <td>-3.568515e-02</td>\n      <td>54.042247</td>\n      <td>1.795840</td>\n      <td>1.753049</td>\n      <td>1.710258</td>\n      <td>1.408903e-01</td>\n      <td>2.823454e+00</td>\n      <td>1.466511e+08</td>\n      <td>4.766606</td>\n      <td>7</td>\n      <td>1</td>\n      <td>ABEV</td>\n      <td>USD</td>\n      <td>-0.118236</td>\n    </tr>\n    <tr>\n      <th>2018-07-24</th>\n      <td>5.64</td>\n      <td>5.74</td>\n      <td>5.62</td>\n      <td>5.69</td>\n      <td>546800.0</td>\n      <td>-1.256564e-01</td>\n      <td>49.939444</td>\n      <td>1.926558</td>\n      <td>1.881268</td>\n      <td>1.835979</td>\n      <td>1.809786e-01</td>\n      <td>3.180644e+00</td>\n      <td>3.111292e+06</td>\n      <td>5.248040</td>\n      <td>7</td>\n      <td>1</td>\n      <td>ELP</td>\n      <td>USD</td>\n      <td>-0.128295</td>\n    </tr>\n  </tbody>\n</table>\n</div>"
     },
     "metadata": {},
     "execution_count": 3
    }
   ],
   "source": [
    "data = pd.read_csv('models/model_test_Forward_Return_1m.csv', index_col = 0, parse_dates=True)\n",
    "data.head(3)"
   ]
  },
  {
   "cell_type": "code",
   "execution_count": 4,
   "metadata": {},
   "outputs": [
    {
     "output_type": "execute_result",
     "data": {
      "text/plain": [
       "(True, Timestamp('2018-07-24 00:00:00'), Timestamp('2020-06-10 00:00:00'))"
      ]
     },
     "metadata": {},
     "execution_count": 4
    }
   ],
   "source": [
    "data.index.is_monotonic, data.index[0], data.index[-1]"
   ]
  },
  {
   "source": [
    "Derivo un dataframe para usar en la simulacion que no contiene el target, ademas, convierto a variable numerica las variables de tipo string porque no son aceptadas por backtrader, podemos convertirlas de vuelta para mandarla al modelo."
   ],
   "cell_type": "markdown",
   "metadata": {}
  },
  {
   "cell_type": "code",
   "execution_count": 26,
   "metadata": {},
   "outputs": [],
   "source": [
    "from sklearn.preprocessing import LabelEncoder\n",
    "\n",
    "simulation_data = data.drop('Forward_Return_1m', axis = 1)[:500]\n",
    "\n",
    "ticker_encoder = LabelEncoder()\n",
    "simulation_data['Ticker_Name'] = simulation_data['Ticker']\n",
    "simulation_data['Ticker'] = ticker_encoder.fit_transform(simulation_data.Ticker)\n",
    "\n",
    "currency_encoder = LabelEncoder()\n",
    "simulation_data['Currency'] = currency_encoder.fit_transform(simulation_data.Currency)"
   ]
  },
  {
   "cell_type": "code",
   "execution_count": 27,
   "metadata": {},
   "outputs": [],
   "source": [
    "class PandasData(bt.feeds.PandasData):\n",
    "    lines = (\n",
    "        'macd',\n",
    "        'rsi',\n",
    "        'bb_high',\n",
    "        'bb_mid',\n",
    "        'bb_low',\n",
    "        'atr',\n",
    "        'natr',\n",
    "        'currency_volume',\n",
    "        'adj_close',\n",
    "        'month',\n",
    "        'weekday',\n",
    "        'ticker',\n",
    "        'currency'\n",
    "    )\n",
    "    params = (\n",
    "        ('datetime', None),\n",
    "        ('open', 0),\n",
    "        ('high', 1),\n",
    "        ('low', 2),\n",
    "        ('close', 3),\n",
    "        ('volume', 4),\n",
    "        ('macd', 5),\n",
    "        ('rsi', 6),\n",
    "        ('bb_high', 7),\n",
    "        ('bb_mid', 8),\n",
    "        ('bb_low', 9),\n",
    "        ('atr', 10),\n",
    "        ('natr', 11),\n",
    "        ('currency_volume', 12),\n",
    "        ('adj_close', 13),\n",
    "        ('month', 14),\n",
    "        ('weekday', 15),\n",
    "        ('ticker', 16),\n",
    "        ('currency', 17)\n",
    "    )"
   ]
  },
  {
   "cell_type": "code",
   "execution_count": 28,
   "metadata": {},
   "outputs": [],
   "source": [
    "test = []"
   ]
  },
  {
   "cell_type": "code",
   "execution_count": 36,
   "metadata": {},
   "outputs": [],
   "source": [
    "import numpy as np\n",
    "\n",
    "class TestStrategy(bt.Strategy):\n",
    "    def __init__(self): pass\n",
    "        #self.open = [x.open for x in self.datas]\n",
    "        #self.high = [x.high for x in self.datas]\n",
    "        #self.low = [x.low for x in self.datas]\n",
    "        #self.close = [x.close for x in self.datas]\n",
    "        #self.volume = [x.volume for x in self.datas]\n",
    "        #self.macd = [x.macd for x in self.datas]\n",
    "        #self.rsi = [x.rsi for x in self.datas]\n",
    "        #self.bb_high = [x.bb_high for x in self.datas]\n",
    "        #self.bb_mid = [x.bb_mid for x in self.datas]\n",
    "        #self.bb_low = [x.bb_low for x in self.datas]\n",
    "        #self.atr = [x.atr for x in self.datas]\n",
    "        #self.natr = [x.natr for x in self.datas]\n",
    "        #self.currency_volume = [x.currency_volume for x in self.datas]\n",
    "        #self.adj_close = [x.adj_close for x in self.datas]\n",
    "        #self.month = [x.month for x in self.datas]\n",
    "        #self.weekday = [x.weekday for x in self.datas]\n",
    "        #self.ticker = [x.ticker for x in self.datas]\n",
    "        #self.currency = [x.currency for x in self.datas]\n",
    "    def next(self):\n",
    "        for i, d in enumerate(self.datas):\n",
    "            dt, dn = self.datetime.date(), d._name\n",
    "            pos = self.getposition(d).size\n",
    "            if dn == 'PBI': print('{} {} {} Position {}'.format(dt, dn, d.close[0], pos))"
   ]
  },
  {
   "cell_type": "code",
   "execution_count": 37,
   "metadata": {
    "tags": []
   },
   "outputs": [
    {
     "output_type": "stream",
     "name": "stdout",
     "text": [
      "Starting Portfolio Value: 100000.00\n",
      "2018-07-25 PBI 8.680000305175781 Position 0\n",
      "2018-07-26 PBI 8.84000015258789 Position 0\n",
      "Final Portfolio Value: 100000.00\n"
     ]
    }
   ],
   "source": [
    "cerebro = bt.Cerebro()\n",
    "cerebro.broker.setcash(100000.0)\n",
    "\n",
    "\n",
    "for ticker in simulation_data.Ticker_Name.unique():\n",
    "    ticker_mask = simulation_data.Ticker_Name == ticker\n",
    "    ticker_data = simulation_data.loc[ticker_mask]\n",
    "    cerebro.adddata(PandasData(dataname=ticker_data), name = ticker)\n",
    "\n",
    "cerebro.addstrategy(TestStrategy)\n",
    "\n",
    "print('Starting Portfolio Value: %.2f' % cerebro.broker.getvalue())\n",
    "cerebro.run()\n",
    "print('Final Portfolio Value: %.2f' % cerebro.broker.getvalue())"
   ]
  },
  {
   "cell_type": "code",
   "execution_count": 38,
   "metadata": {},
   "outputs": [
    {
     "output_type": "execute_result",
     "data": {
      "text/plain": [
       "           Ticker_Name  Close\n",
       "Date                         \n",
       "2018-07-25         PBI   8.68\n",
       "2018-07-26         PBI   8.84"
      ],
      "text/html": "<div>\n<style scoped>\n    .dataframe tbody tr th:only-of-type {\n        vertical-align: middle;\n    }\n\n    .dataframe tbody tr th {\n        vertical-align: top;\n    }\n\n    .dataframe thead th {\n        text-align: right;\n    }\n</style>\n<table border=\"1\" class=\"dataframe\">\n  <thead>\n    <tr style=\"text-align: right;\">\n      <th></th>\n      <th>Ticker_Name</th>\n      <th>Close</th>\n    </tr>\n    <tr>\n      <th>Date</th>\n      <th></th>\n      <th></th>\n    </tr>\n  </thead>\n  <tbody>\n    <tr>\n      <th>2018-07-25</th>\n      <td>PBI</td>\n      <td>8.68</td>\n    </tr>\n    <tr>\n      <th>2018-07-26</th>\n      <td>PBI</td>\n      <td>8.84</td>\n    </tr>\n  </tbody>\n</table>\n</div>"
     },
     "metadata": {},
     "execution_count": 38
    }
   ],
   "source": [
    "simulation_data[['Ticker_Name', 'Close']][simulation_data.Ticker_Name == 'PBI']"
   ]
  },
  {
   "cell_type": "code",
   "execution_count": null,
   "metadata": {},
   "outputs": [],
   "source": []
  }
 ]
}