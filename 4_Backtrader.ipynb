{
 "metadata": {
  "language_info": {
   "codemirror_mode": {
    "name": "ipython",
    "version": 3
   },
   "file_extension": ".py",
   "mimetype": "text/x-python",
   "name": "python",
   "nbconvert_exporter": "python",
   "pygments_lexer": "ipython3",
   "version": "3.7.8-final"
  },
  "orig_nbformat": 2,
  "kernelspec": {
   "name": "python3",
   "display_name": "Python 3"
  }
 },
 "nbformat": 4,
 "nbformat_minor": 2,
 "cells": [
  {
   "source": [
    "# Backtrader"
   ],
   "cell_type": "markdown",
   "metadata": {}
  },
  {
   "source": [
    "En esta notebook realizamos una simulacion utilizando los modelos entrenados"
   ],
   "cell_type": "markdown",
   "metadata": {}
  },
  {
   "cell_type": "code",
   "execution_count": 1,
   "metadata": {},
   "outputs": [
    {
     "output_type": "stream",
     "name": "stdout",
     "text": [
      "Requirement already satisfied: backtrader in c:\\users\\carlm\\anaconda3\\envs\\tf_gpu\\lib\\site-packages (1.9.76.123)\n"
     ]
    }
   ],
   "source": [
    "! pip install backtrader;"
   ]
  },
  {
   "cell_type": "code",
   "execution_count": 8,
   "metadata": {},
   "outputs": [],
   "source": [
    "import backtrader as bt\n",
    "import pandas as pd"
   ]
  },
  {
   "source": [
    "Importamos la data de test de los modelos, en todos los casos es la misma data excluyendo el target, consta del 2018 al 2020. Estos son datos que los modelos no han visto."
   ],
   "cell_type": "markdown",
   "metadata": {}
  },
  {
   "cell_type": "code",
   "execution_count": 9,
   "metadata": {},
   "outputs": [
    {
     "output_type": "execute_result",
     "data": {
      "text/plain": [
       "              Open    High     Low   Close      Volume          MACD  \\\n",
       "Date                                                                   \n",
       "2018-07-24  360.50  360.50  360.50  360.50         0.0 -1.705303e-13   \n",
       "2018-07-24    4.99    5.06    4.93    4.99  29389000.0 -3.568515e-02   \n",
       "2018-07-24    5.64    5.74    5.62    5.69    546800.0 -1.256564e-01   \n",
       "\n",
       "                  RSI   BB_High    BB_Mid    BB_Low           ATR  \\\n",
       "Date                                                                \n",
       "2018-07-24   0.000000  5.890262  5.890262  5.890262  3.526296e-25   \n",
       "2018-07-24  54.042247  1.795840  1.753049  1.710258  1.408903e-01   \n",
       "2018-07-24  49.939444  1.926558  1.881268  1.835979  1.809786e-01   \n",
       "\n",
       "                    NATR  Currency_Volume   Adj Close  Month  Weekday  \\\n",
       "Date                                                                    \n",
       "2018-07-24  9.781681e-26     0.000000e+00  358.496796      7        1   \n",
       "2018-07-24  2.823454e+00     1.466511e+08    4.766606      7        1   \n",
       "2018-07-24  3.180644e+00     3.111292e+06    5.248040      7        1   \n",
       "\n",
       "             Ticker Currency  Forward_Return_1m  \n",
       "Date                                             \n",
       "2018-07-24  AMGN.BA      ARS           0.000000  \n",
       "2018-07-24     ABEV      USD          -0.118236  \n",
       "2018-07-24      ELP      USD          -0.128295  "
      ],
      "text/html": "<div>\n<style scoped>\n    .dataframe tbody tr th:only-of-type {\n        vertical-align: middle;\n    }\n\n    .dataframe tbody tr th {\n        vertical-align: top;\n    }\n\n    .dataframe thead th {\n        text-align: right;\n    }\n</style>\n<table border=\"1\" class=\"dataframe\">\n  <thead>\n    <tr style=\"text-align: right;\">\n      <th></th>\n      <th>Open</th>\n      <th>High</th>\n      <th>Low</th>\n      <th>Close</th>\n      <th>Volume</th>\n      <th>MACD</th>\n      <th>RSI</th>\n      <th>BB_High</th>\n      <th>BB_Mid</th>\n      <th>BB_Low</th>\n      <th>ATR</th>\n      <th>NATR</th>\n      <th>Currency_Volume</th>\n      <th>Adj Close</th>\n      <th>Month</th>\n      <th>Weekday</th>\n      <th>Ticker</th>\n      <th>Currency</th>\n      <th>Forward_Return_1m</th>\n    </tr>\n    <tr>\n      <th>Date</th>\n      <th></th>\n      <th></th>\n      <th></th>\n      <th></th>\n      <th></th>\n      <th></th>\n      <th></th>\n      <th></th>\n      <th></th>\n      <th></th>\n      <th></th>\n      <th></th>\n      <th></th>\n      <th></th>\n      <th></th>\n      <th></th>\n      <th></th>\n      <th></th>\n      <th></th>\n    </tr>\n  </thead>\n  <tbody>\n    <tr>\n      <th>2018-07-24</th>\n      <td>360.50</td>\n      <td>360.50</td>\n      <td>360.50</td>\n      <td>360.50</td>\n      <td>0.0</td>\n      <td>-1.705303e-13</td>\n      <td>0.000000</td>\n      <td>5.890262</td>\n      <td>5.890262</td>\n      <td>5.890262</td>\n      <td>3.526296e-25</td>\n      <td>9.781681e-26</td>\n      <td>0.000000e+00</td>\n      <td>358.496796</td>\n      <td>7</td>\n      <td>1</td>\n      <td>AMGN.BA</td>\n      <td>ARS</td>\n      <td>0.000000</td>\n    </tr>\n    <tr>\n      <th>2018-07-24</th>\n      <td>4.99</td>\n      <td>5.06</td>\n      <td>4.93</td>\n      <td>4.99</td>\n      <td>29389000.0</td>\n      <td>-3.568515e-02</td>\n      <td>54.042247</td>\n      <td>1.795840</td>\n      <td>1.753049</td>\n      <td>1.710258</td>\n      <td>1.408903e-01</td>\n      <td>2.823454e+00</td>\n      <td>1.466511e+08</td>\n      <td>4.766606</td>\n      <td>7</td>\n      <td>1</td>\n      <td>ABEV</td>\n      <td>USD</td>\n      <td>-0.118236</td>\n    </tr>\n    <tr>\n      <th>2018-07-24</th>\n      <td>5.64</td>\n      <td>5.74</td>\n      <td>5.62</td>\n      <td>5.69</td>\n      <td>546800.0</td>\n      <td>-1.256564e-01</td>\n      <td>49.939444</td>\n      <td>1.926558</td>\n      <td>1.881268</td>\n      <td>1.835979</td>\n      <td>1.809786e-01</td>\n      <td>3.180644e+00</td>\n      <td>3.111292e+06</td>\n      <td>5.248040</td>\n      <td>7</td>\n      <td>1</td>\n      <td>ELP</td>\n      <td>USD</td>\n      <td>-0.128295</td>\n    </tr>\n  </tbody>\n</table>\n</div>"
     },
     "metadata": {},
     "execution_count": 9
    }
   ],
   "source": [
    "data = pd.read_csv('models/model_test_Forward_Return_1m.csv', index_col = 0, parse_dates=True)\n",
    "data.head(3)"
   ]
  },
  {
   "cell_type": "code",
   "execution_count": 10,
   "metadata": {},
   "outputs": [
    {
     "output_type": "execute_result",
     "data": {
      "text/plain": [
       "(True, Timestamp('2018-07-24 00:00:00'), Timestamp('2020-06-10 00:00:00'))"
      ]
     },
     "metadata": {},
     "execution_count": 10
    }
   ],
   "source": [
    "data.index.is_monotonic, data.index[0], data.index[-1]"
   ]
  },
  {
   "source": [
    "Importo el modelo"
   ],
   "cell_type": "markdown",
   "metadata": {}
  },
  {
   "cell_type": "code",
   "execution_count": 1,
   "metadata": {},
   "outputs": [],
   "source": [
    "import joblib"
   ]
  },
  {
   "cell_type": "code",
   "execution_count": 15,
   "metadata": {},
   "outputs": [
    {
     "output_type": "stream",
     "name": "stderr",
     "text": [
      "C:\\Users\\carlm\\anaconda3\\envs\\tf_gpu\\lib\\site-packages\\sklearn\\base.py:334: UserWarning: Trying to unpickle estimator OneHotEncoder from version 0.23.1 when using version 0.23.2. This might lead to breaking code or invalid results. Use at your own risk.\n  UserWarning)\nC:\\Users\\carlm\\anaconda3\\envs\\tf_gpu\\lib\\site-packages\\sklearn\\base.py:334: UserWarning: Trying to unpickle estimator ColumnTransformer from version 0.23.1 when using version 0.23.2. This might lead to breaking code or invalid results. Use at your own risk.\n  UserWarning)\nC:\\Users\\carlm\\anaconda3\\envs\\tf_gpu\\lib\\site-packages\\sklearn\\base.py:334: UserWarning: Trying to unpickle estimator Pipeline from version 0.23.1 when using version 0.23.2. This might lead to breaking code or invalid results. Use at your own risk.\n  UserWarning)\n"
     ]
    }
   ],
   "source": [
    "model = joblib.load('models/trained_model_Forward_Return_1m.joblib')"
   ]
  },
  {
   "cell_type": "code",
   "execution_count": 16,
   "metadata": {},
   "outputs": [
    {
     "output_type": "stream",
     "name": "stdout",
     "text": [
      "Pipeline(steps=[('preprocessing',\n                 ColumnTransformer(transformers=[('continuous', 'passthrough',\n                                                  ['Open', 'High', 'Low',\n                                                   'Close', 'Volume', 'MACD',\n                                                   'RSI', 'BB_High', 'BB_Mid',\n                                                   'BB_Low', 'ATR', 'NATR',\n                                                   'Currency_Volume',\n                                                   'Adj Close']),\n                                                 ('categorical',\n                                                  OneHotEncoder(handle_unknown='ignore'),\n                                                  ['Month', 'Weekday', 'Ticker',\n                                                   'Currency'])])),\n                ('estimator',\n                 XGBRegressor(base_score...\n                              colsample_bytree=1, gamma=0, gpu_id=-1,\n                              importance_type='gain',\n                              interaction_constraints='',\n                              learning_rate=0.300000012, max_delta_step=0,\n                              max_depth=5, min_child_weight=1, missing=nan,\n                              monotone_constraints='()', n_estimators=100,\n                              n_jobs=-1, num_parallel_tree=1, random_state=0,\n                              reg_alpha=0, reg_lambda=1, scale_pos_weight=1,\n                              subsample=1, tree_method='exact',\n                              validate_parameters=1, verbosity=None))])\n"
     ]
    }
   ],
   "source": [
    "print(model)"
   ]
  },
  {
   "cell_type": "code",
   "execution_count": 17,
   "metadata": {},
   "outputs": [
    {
     "output_type": "stream",
     "name": "stdout",
     "text": [
      "('preprocessing', ColumnTransformer(transformers=[('continuous', 'passthrough',\n                                 ['Open', 'High', 'Low', 'Close', 'Volume',\n                                  'MACD', 'RSI', 'BB_High', 'BB_Mid', 'BB_Low',\n                                  'ATR', 'NATR', 'Currency_Volume',\n                                  'Adj Close']),\n                                ('categorical',\n                                 OneHotEncoder(handle_unknown='ignore'),\n                                 ['Month', 'Weekday', 'Ticker', 'Currency'])]))\n('estimator', XGBRegressor(base_score=0.5, booster='gbtree', colsample_bylevel=1,\n             colsample_bynode=1, colsample_bytree=1, gamma=0, gpu_id=-1,\n             importance_type='gain', interaction_constraints='',\n             learning_rate=0.300000012, max_delta_step=0, max_depth=5,\n             min_child_weight=1, missing=nan, monotone_constraints='()',\n             n_estimators=100, n_jobs=-1, num_parallel_tree=1, random_state=0,\n             reg_alpha=0, reg_lambda=1, scale_pos_weight=1, subsample=1,\n             tree_method='exact', validate_parameters=1, verbosity=None))\n"
     ]
    },
    {
     "output_type": "execute_result",
     "data": {
      "text/plain": [
       "(None, None)"
      ]
     },
     "metadata": {},
     "execution_count": 17
    }
   ],
   "source": [
    "print(model.steps[0]), print(model.steps[1])"
   ]
  },
  {
   "cell_type": "code",
   "execution_count": 23,
   "metadata": {},
   "outputs": [
    {
     "output_type": "execute_result",
     "data": {
      "text/plain": [
       "Open                     1461.51\n",
       "High                     1472.77\n",
       "Low                      1454.36\n",
       "Close                     1464.7\n",
       "Volume                1.5881e+06\n",
       "MACD                     34.3129\n",
       "RSI                      67.7968\n",
       "BB_High                  7.30012\n",
       "BB_Mid                    7.2552\n",
       "BB_Low                   7.21028\n",
       "ATR                      31.9126\n",
       "NATR                     2.17878\n",
       "Currency_Volume      2.32609e+09\n",
       "Adj Close                 1464.7\n",
       "Month                          6\n",
       "Weekday                        2\n",
       "Ticker                     GOOGL\n",
       "Currency                     USD\n",
       "Forward_Return_1m      0.0355363\n",
       "Name: 2020-06-10 00:00:00, dtype: object"
      ]
     },
     "metadata": {},
     "execution_count": 23
    }
   ],
   "source": [
    "data.iloc[-1]"
   ]
  },
  {
   "cell_type": "code",
   "execution_count": 24,
   "metadata": {},
   "outputs": [
    {
     "output_type": "stream",
     "name": "stderr",
     "text": [
      "C:\\Users\\carlm\\anaconda3\\envs\\tf_gpu\\lib\\site-packages\\sklearn\\compose\\_column_transformer.py:440: FutureWarning: Given feature/column names or counts do not match the ones for the data given during fit. This will fail from v0.24.\n  FutureWarning)\n"
     ]
    },
    {
     "output_type": "execute_result",
     "data": {
      "text/plain": [
       "0.043270826"
      ]
     },
     "metadata": {},
     "execution_count": 24
    }
   ],
   "source": [
    "model.predict(data)[-1]"
   ]
  },
  {
   "source": [
    "Derivo un dataframe para usar en la simulacion que no contiene el target, ademas, convierto a variable numerica las variables de tipo string porque no son aceptadas por backtrader, podemos convertirlas de vuelta para mandarla al modelo."
   ],
   "cell_type": "markdown",
   "metadata": {}
  },
  {
   "cell_type": "code",
   "execution_count": 26,
   "metadata": {},
   "outputs": [],
   "source": [
    "from sklearn.preprocessing import LabelEncoder\n",
    "\n",
    "simulation_data = data.drop('Forward_Return_1m', axis = 1)[:500]\n",
    "\n",
    "ticker_encoder = LabelEncoder()\n",
    "simulation_data['Ticker_Name'] = simulation_data['Ticker']\n",
    "simulation_data['Ticker'] = ticker_encoder.fit_transform(simulation_data.Ticker)\n",
    "\n",
    "currency_encoder = LabelEncoder()\n",
    "simulation_data['Currency'] = currency_encoder.fit_transform(simulation_data.Currency)"
   ]
  },
  {
   "cell_type": "code",
   "execution_count": 27,
   "metadata": {},
   "outputs": [],
   "source": [
    "class PandasData(bt.feeds.PandasData):\n",
    "    lines = (\n",
    "        'macd',\n",
    "        'rsi',\n",
    "        'bb_high',\n",
    "        'bb_mid',\n",
    "        'bb_low',\n",
    "        'atr',\n",
    "        'natr',\n",
    "        'currency_volume',\n",
    "        'adj_close',\n",
    "        'month',\n",
    "        'weekday',\n",
    "        'ticker',\n",
    "        'currency'\n",
    "    )\n",
    "    params = (\n",
    "        ('datetime', None),\n",
    "        ('open', 0),\n",
    "        ('high', 1),\n",
    "        ('low', 2),\n",
    "        ('close', 3),\n",
    "        ('volume', 4),\n",
    "        ('macd', 5),\n",
    "        ('rsi', 6),\n",
    "        ('bb_high', 7),\n",
    "        ('bb_mid', 8),\n",
    "        ('bb_low', 9),\n",
    "        ('atr', 10),\n",
    "        ('natr', 11),\n",
    "        ('currency_volume', 12),\n",
    "        ('adj_close', 13),\n",
    "        ('month', 14),\n",
    "        ('weekday', 15),\n",
    "        ('ticker', 16),\n",
    "        ('currency', 17)\n",
    "    )"
   ]
  },
  {
   "cell_type": "code",
   "execution_count": 28,
   "metadata": {},
   "outputs": [],
   "source": [
    "test = []"
   ]
  },
  {
   "cell_type": "code",
   "execution_count": 46,
   "metadata": {},
   "outputs": [
    {
     "output_type": "execute_result",
     "data": {
      "text/plain": [
       "Index(['Open', 'High', 'Low', 'Close', 'Volume', 'MACD', 'RSI', 'BB_High',\n",
       "       'BB_Mid', 'BB_Low', 'ATR', 'NATR', 'Currency_Volume', 'Adj Close',\n",
       "       'Month', 'Weekday', 'Ticker', 'Currency', 'Ticker_Name'],\n",
       "      dtype='object')"
      ]
     },
     "metadata": {},
     "execution_count": 46
    }
   ],
   "source": [
    "simulation_data.columns"
   ]
  },
  {
   "cell_type": "code",
   "execution_count": 65,
   "metadata": {},
   "outputs": [],
   "source": [
    "import numpy as np\n",
    "\n",
    "class TestStrategy(bt.Strategy):\n",
    "    def __init__(self): pass\n",
    "    def next(self):\n",
    "        market = self.get_market()\n",
    "        print(market[market.Ticker == 'PBI'][['Close', 'Date']])\n",
    "    # Organize Market Data in a DataFrame\n",
    "    def get_market(self):\n",
    "        market_data = pd.DataFrame()\n",
    "        for i, d in enumerate(self.datas):\n",
    "            # Fecha, Nombre del ticker\n",
    "            dt, dn = self.datetime.date(), d._name\n",
    "            # Posicion en el broker\n",
    "            pos = self.getposition(d).size\n",
    "            ticker_data = pd.DataFrame({\n",
    "                'Date': [dt], 'Position': [pos], 'Open': [d.open[0]], 'High': [d.high[0]],\n",
    "                'Low': [d.low[0]], 'Close': [d.close[0]], 'Volume': [d.volume[0]],\n",
    "                'MACD': [d.macd[0]], 'RSI': [d.rsi[0]], 'BB_High': [d.bb_high[0]],\n",
    "                'BB_Mid': [d.bb_mid[0]], 'BB_Low': [d.bb_low[0]], 'ATR': [d.atr[0]],\n",
    "                'NATR': [d.natr[0]], 'Currency_Volume': [d.currency_volume[0]],\n",
    "                'Adj Close': [d.adj_close[0]], 'Month': [d.month[0]],\n",
    "                'Weekday': [d.weekday[0]], 'Ticker': [dn], 'Currency': [d.currency[0]]\n",
    "            })\n",
    "            market_data = market_data.append(ticker_data)\n",
    "        return market_data"
   ]
  },
  {
   "cell_type": "code",
   "execution_count": 66,
   "metadata": {
    "tags": []
   },
   "outputs": [
    {
     "output_type": "stream",
     "name": "stdout",
     "text": [
      "Starting Portfolio Value: 100000.00\n",
      "   Close        Date\n",
      "0   8.68  2018-07-25\n",
      "   Close        Date\n",
      "0   8.84  2018-07-26\n",
      "Final Portfolio Value: 100000.00\n"
     ]
    }
   ],
   "source": [
    "cerebro = bt.Cerebro()\n",
    "cerebro.broker.setcash(100000.0)\n",
    "\n",
    "\n",
    "for ticker in simulation_data.Ticker_Name.unique():\n",
    "    ticker_mask = simulation_data.Ticker_Name == ticker\n",
    "    ticker_data = simulation_data.loc[ticker_mask]\n",
    "    cerebro.adddata(PandasData(dataname=ticker_data), name = ticker)\n",
    "\n",
    "cerebro.addstrategy(TestStrategy)\n",
    "\n",
    "print('Starting Portfolio Value: %.2f' % cerebro.broker.getvalue())\n",
    "cerebro.run()\n",
    "print('Final Portfolio Value: %.2f' % cerebro.broker.getvalue())"
   ]
  },
  {
   "cell_type": "code",
   "execution_count": 67,
   "metadata": {},
   "outputs": [
    {
     "output_type": "execute_result",
     "data": {
      "text/plain": [
       "           Ticker_Name  Close\n",
       "Date                         \n",
       "2018-07-25         PBI   8.68\n",
       "2018-07-26         PBI   8.84"
      ],
      "text/html": "<div>\n<style scoped>\n    .dataframe tbody tr th:only-of-type {\n        vertical-align: middle;\n    }\n\n    .dataframe tbody tr th {\n        vertical-align: top;\n    }\n\n    .dataframe thead th {\n        text-align: right;\n    }\n</style>\n<table border=\"1\" class=\"dataframe\">\n  <thead>\n    <tr style=\"text-align: right;\">\n      <th></th>\n      <th>Ticker_Name</th>\n      <th>Close</th>\n    </tr>\n    <tr>\n      <th>Date</th>\n      <th></th>\n      <th></th>\n    </tr>\n  </thead>\n  <tbody>\n    <tr>\n      <th>2018-07-25</th>\n      <td>PBI</td>\n      <td>8.68</td>\n    </tr>\n    <tr>\n      <th>2018-07-26</th>\n      <td>PBI</td>\n      <td>8.84</td>\n    </tr>\n  </tbody>\n</table>\n</div>"
     },
     "metadata": {},
     "execution_count": 67
    }
   ],
   "source": [
    "simulation_data[['Ticker_Name', 'Close']][simulation_data.Ticker_Name == 'PBI']"
   ]
  },
  {
   "cell_type": "code",
   "execution_count": null,
   "metadata": {},
   "outputs": [],
   "source": []
  }
 ]
}