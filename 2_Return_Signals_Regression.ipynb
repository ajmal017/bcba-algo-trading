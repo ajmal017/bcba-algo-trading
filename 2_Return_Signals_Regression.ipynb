{
 "cells": [
  {
   "cell_type": "markdown",
   "metadata": {},
   "source": [
    "# Return signals regression"
   ]
  },
  {
   "cell_type": "code",
   "execution_count": 1,
   "metadata": {},
   "outputs": [],
   "source": [
    "import pandas as pd\n",
    "import numpy as np\n",
    "import sys, os"
   ]
  },
  {
   "cell_type": "code",
   "execution_count": 2,
   "metadata": {},
   "outputs": [],
   "source": [
    "dataset = pd.read_pickle(\"data/all_tickers_last_decade_features.pkl\")"
   ]
  },
  {
   "cell_type": "markdown",
   "metadata": {},
   "source": [
    "## Pipeline de preprocesamiento"
   ]
  },
  {
   "cell_type": "code",
   "execution_count": 3,
   "metadata": {},
   "outputs": [
    {
     "output_type": "execute_result",
     "data": {
      "text/plain": [
       "Index(['Ticker', 'Open', 'High', 'Low', 'Close', 'Adj Close', 'Volume',\n",
       "       'Currency', 'MACD', 'RSI', 'BB_High', 'BB_Mid', 'BB_Low', 'ATR', 'NATR',\n",
       "       'Currency_Volume', 'Return_1w', 'Return_1m', 'Return_2m', 'Return_3m',\n",
       "       'Forward_Return_1w', 'Forward_Return_1m', 'Forward_Return_2m',\n",
       "       'Forward_Return_3m', 'Year', 'Month', 'Weekday'],\n",
       "      dtype='object')"
      ]
     },
     "metadata": {},
     "execution_count": 3
    }
   ],
   "source": [
    "dataset.columns"
   ]
  },
  {
   "cell_type": "code",
   "execution_count": 4,
   "metadata": {},
   "outputs": [],
   "source": [
    "continuous_features = ['Open', 'High', 'Low', 'Close', 'Volume',\n",
    "                       'MACD', 'RSI', 'BB_High', 'BB_Mid', 'BB_Low',\n",
    "                       'ATR', 'NATR', 'Currency_Volume', 'Adj Close']\n",
    "categorical_features = ['Month', 'Weekday', 'Ticker', 'Currency']"
   ]
  },
  {
   "cell_type": "code",
   "execution_count": 5,
   "metadata": {},
   "outputs": [],
   "source": [
    "from sklearn.compose import ColumnTransformer\n",
    "from sklearn.preprocessing import OneHotEncoder, StandardScaler, MinMaxScaler\n",
    "from sklearn.pipeline import make_union"
   ]
  },
  {
   "cell_type": "code",
   "execution_count": 6,
   "metadata": {},
   "outputs": [],
   "source": [
    "from sklearn.base import BaseEstimator, TransformerMixin\n",
    "class NoTransformer(BaseEstimator, TransformerMixin):\n",
    "    def fit(self, X, y=None):\n",
    "        return self\n",
    "\n",
    "    def transform(self, X):\n",
    "        assert isinstance(X, pd.DataFrame)\n",
    "        return X"
   ]
  },
  {
   "cell_type": "code",
   "execution_count": 7,
   "metadata": {},
   "outputs": [],
   "source": [
    "preprocessing_pipeline = ColumnTransformer(transformers = [\n",
    "    ('continuous', NoTransformer(), continuous_features),\n",
    "    ('categorical', OneHotEncoder(handle_unknown='ignore'), categorical_features)\n",
    "])"
   ]
  },
  {
   "cell_type": "code",
   "execution_count": 8,
   "metadata": {},
   "outputs": [],
   "source": [
    "features = continuous_features + categorical_features"
   ]
  },
  {
   "cell_type": "markdown",
   "metadata": {},
   "source": [
    "## Entrenamiendo por grilla"
   ]
  },
  {
   "cell_type": "code",
   "execution_count": 9,
   "metadata": {},
   "outputs": [],
   "source": [
    "from sklearn.model_selection import GridSearchCV\n",
    "from sklearn.pipeline import Pipeline\n",
    "from sklearn.linear_model import LinearRegression"
   ]
  },
  {
   "cell_type": "code",
   "execution_count": 10,
   "metadata": {},
   "outputs": [],
   "source": [
    "pipeline = Pipeline(steps = [\n",
    "    ('preprocessing', preprocessing_pipeline),\n",
    "    ('estimator', LinearRegression())\n",
    "])"
   ]
  },
  {
   "cell_type": "code",
   "execution_count": 11,
   "metadata": {},
   "outputs": [],
   "source": [
    "accepted_targets = [column for column in dataset.columns if 'Forward_' in column]"
   ]
  },
  {
   "cell_type": "code",
   "execution_count": 12,
   "metadata": {
    "scrolled": true
   },
   "outputs": [],
   "source": [
    "from sklearn.linear_model import LinearRegression\n",
    "from sklearn.ensemble import RandomForestRegressor\n",
    "from lightgbm import LGBMRegressor\n",
    "from catboost import CatBoostRegressor"
   ]
  },
  {
   "cell_type": "code",
   "execution_count": 13,
   "metadata": {},
   "outputs": [],
   "source": [
    "params_grid =[\n",
    "    {'estimator':[LinearRegression()]},\n",
    "    {\n",
    "        'estimator': [RandomForestRegressor()],\n",
    "        'estimator__max_depth': range(5, 21, 5),\n",
    "        'estimator__min_samples_split': range(10, 210, 50)\n",
    "    },\n",
    "    {\n",
    "        'estimator': [LGBMRegressor(random_state = 42, silent = True)],\n",
    "        'estimator__n_estimators': range(20, 101, 20)\n",
    "    },\n",
    "    {\n",
    "        'estimator': [CatBoostRegressor(verbose = False)],\n",
    "    },\n",
    "]"
   ]
  },
  {
   "source": [
    "Como queremos estimar varios targets en los cuales hay nulos en distintos rangos de tiempo, haremos cross-validation en cada caso."
   ],
   "cell_type": "markdown",
   "metadata": {}
  },
  {
   "cell_type": "code",
   "execution_count": 14,
   "metadata": {},
   "outputs": [],
   "source": [
    "from sklearn.model_selection import TimeSeriesSplit, train_test_split"
   ]
  },
  {
   "cell_type": "code",
   "execution_count": 15,
   "metadata": {},
   "outputs": [
    {
     "output_type": "error",
     "ename": "MemoryError",
     "evalue": "Unable to allocate 6.98 MiB for an array with shape (2, 457298) and data type int64",
     "traceback": [
      "\u001b[1;31m---------------------------------------------------------------------------\u001b[0m",
      "\u001b[1;31m_RemoteTraceback\u001b[0m                          Traceback (most recent call last)",
      "\u001b[1;31m_RemoteTraceback\u001b[0m: \n\"\"\"\nTraceback (most recent call last):\n  File \"C:\\Users\\carlm\\anaconda3\\envs\\tf_gpu\\lib\\site-packages\\joblib\\parallel.py\", line 827, in dispatch_one_batch\n    tasks = self._ready_batches.get(block=False)\n  File \"C:\\Users\\carlm\\anaconda3\\envs\\tf_gpu\\lib\\queue.py\", line 167, in get\n    raise Empty\n_queue.Empty\n\nDuring handling of the above exception, another exception occurred:\n\nTraceback (most recent call last):\n  File \"C:\\Users\\carlm\\anaconda3\\envs\\tf_gpu\\lib\\site-packages\\joblib\\externals\\loky\\process_executor.py\", line 431, in _process_worker\n    r = call_item()\n  File \"C:\\Users\\carlm\\anaconda3\\envs\\tf_gpu\\lib\\site-packages\\joblib\\externals\\loky\\process_executor.py\", line 285, in __call__\n    return self.fn(*self.args, **self.kwargs)\n  File \"C:\\Users\\carlm\\anaconda3\\envs\\tf_gpu\\lib\\site-packages\\joblib\\_parallel_backends.py\", line 595, in __call__\n    return self.func(*args, **kwargs)\n  File \"C:\\Users\\carlm\\anaconda3\\envs\\tf_gpu\\lib\\site-packages\\joblib\\parallel.py\", line 263, in __call__\n    for func, args, kwargs in self.items]\n  File \"C:\\Users\\carlm\\anaconda3\\envs\\tf_gpu\\lib\\site-packages\\joblib\\parallel.py\", line 263, in <listcomp>\n    for func, args, kwargs in self.items]\n  File \"C:\\Users\\carlm\\anaconda3\\envs\\tf_gpu\\lib\\site-packages\\sklearn\\model_selection\\_validation.py\", line 560, in _fit_and_score\n    test_scores = _score(estimator, X_test, y_test, scorer)\n  File \"C:\\Users\\carlm\\anaconda3\\envs\\tf_gpu\\lib\\site-packages\\sklearn\\model_selection\\_validation.py\", line 607, in _score\n    scores = scorer(estimator, X_test, y_test)\n  File \"C:\\Users\\carlm\\anaconda3\\envs\\tf_gpu\\lib\\site-packages\\sklearn\\metrics\\_scorer.py\", line 88, in __call__\n    *args, **kwargs)\n  File \"C:\\Users\\carlm\\anaconda3\\envs\\tf_gpu\\lib\\site-packages\\sklearn\\metrics\\_scorer.py\", line 206, in _score\n    y_pred = method_caller(estimator, \"predict\", X)\n  File \"C:\\Users\\carlm\\anaconda3\\envs\\tf_gpu\\lib\\site-packages\\sklearn\\metrics\\_scorer.py\", line 53, in _cached_call\n    return getattr(estimator, method)(*args, **kwargs)\n  File \"C:\\Users\\carlm\\anaconda3\\envs\\tf_gpu\\lib\\site-packages\\sklearn\\utils\\metaestimators.py\", line 119, in <lambda>\n    out = lambda *args, **kwargs: self.fn(obj, *args, **kwargs)\n  File \"C:\\Users\\carlm\\anaconda3\\envs\\tf_gpu\\lib\\site-packages\\sklearn\\pipeline.py\", line 407, in predict\n    Xt = transform.transform(Xt)\n  File \"C:\\Users\\carlm\\anaconda3\\envs\\tf_gpu\\lib\\site-packages\\sklearn\\compose\\_column_transformer.py\", line 604, in transform\n    Xs = self._fit_transform(X, None, _transform_one, fitted=True)\n  File \"C:\\Users\\carlm\\anaconda3\\envs\\tf_gpu\\lib\\site-packages\\sklearn\\compose\\_column_transformer.py\", line 467, in _fit_transform\n    self._iter(fitted=fitted, replace_strings=True), 1))\n  File \"C:\\Users\\carlm\\anaconda3\\envs\\tf_gpu\\lib\\site-packages\\joblib\\parallel.py\", line 1051, in __call__\n    while self.dispatch_one_batch(iterator):\n  File \"C:\\Users\\carlm\\anaconda3\\envs\\tf_gpu\\lib\\site-packages\\joblib\\parallel.py\", line 838, in dispatch_one_batch\n    islice = list(itertools.islice(iterator, big_batch_size))\n  File \"C:\\Users\\carlm\\anaconda3\\envs\\tf_gpu\\lib\\site-packages\\sklearn\\compose\\_column_transformer.py\", line 466, in <genexpr>\n    for idx, (name, trans, column, weight) in enumerate(\n  File \"C:\\Users\\carlm\\anaconda3\\envs\\tf_gpu\\lib\\site-packages\\sklearn\\utils\\__init__.py\", line 393, in _safe_indexing\n    return _pandas_indexing(X, indices, indices_dtype, axis=axis)\n  File \"C:\\Users\\carlm\\anaconda3\\envs\\tf_gpu\\lib\\site-packages\\sklearn\\utils\\__init__.py\", line 195, in _pandas_indexing\n    return indexer[:, key] if axis else indexer[key]\n  File \"C:\\Users\\carlm\\anaconda3\\envs\\tf_gpu\\lib\\site-packages\\pandas\\core\\indexing.py\", line 873, in __getitem__\n    return self._getitem_tuple(key)\n  File \"C:\\Users\\carlm\\anaconda3\\envs\\tf_gpu\\lib\\site-packages\\pandas\\core\\indexing.py\", line 1055, in _getitem_tuple\n    return self._getitem_tuple_same_dim(tup)\n  File \"C:\\Users\\carlm\\anaconda3\\envs\\tf_gpu\\lib\\site-packages\\pandas\\core\\indexing.py\", line 750, in _getitem_tuple_same_dim\n    retval = getattr(retval, self.name)._getitem_axis(key, axis=i)\n  File \"C:\\Users\\carlm\\anaconda3\\envs\\tf_gpu\\lib\\site-packages\\pandas\\core\\indexing.py\", line 1099, in _getitem_axis\n    return self._getitem_iterable(key, axis=axis)\n  File \"C:\\Users\\carlm\\anaconda3\\envs\\tf_gpu\\lib\\site-packages\\pandas\\core\\indexing.py\", line 1039, in _getitem_iterable\n    {axis: [keyarr, indexer]}, copy=True, allow_dups=True\n  File \"C:\\Users\\carlm\\anaconda3\\envs\\tf_gpu\\lib\\site-packages\\pandas\\core\\generic.py\", line 4527, in _reindex_with_indexers\n    copy=copy,\n  File \"C:\\Users\\carlm\\anaconda3\\envs\\tf_gpu\\lib\\site-packages\\pandas\\core\\internals\\managers.py\", line 1282, in reindex_indexer\n    new_blocks = self._slice_take_blocks_ax0(indexer, fill_value=fill_value)\n  File \"C:\\Users\\carlm\\anaconda3\\envs\\tf_gpu\\lib\\site-packages\\pandas\\core\\internals\\managers.py\", line 1410, in _slice_take_blocks_ax0\n    nb = blk.take_nd(taker, axis=0, new_mgr_locs=mgr_locs)\n  File \"C:\\Users\\carlm\\anaconda3\\envs\\tf_gpu\\lib\\site-packages\\pandas\\core\\internals\\blocks.py\", line 1255, in take_nd\n    values, indexer, axis=axis, allow_fill=allow_fill, fill_value=fill_value\n  File \"C:\\Users\\carlm\\anaconda3\\envs\\tf_gpu\\lib\\site-packages\\pandas\\core\\algorithms.py\", line 1703, in take_nd\n    out = np.empty(out_shape, dtype=dtype)\nMemoryError: Unable to allocate 6.98 MiB for an array with shape (2, 457298) and data type int64\n\"\"\"",
      "\nThe above exception was the direct cause of the following exception:\n",
      "\u001b[1;31mMemoryError\u001b[0m                               Traceback (most recent call last)",
      "\u001b[1;32m<ipython-input-15-fbe114562e80>\u001b[0m in \u001b[0;36m<module>\u001b[1;34m\u001b[0m\n\u001b[0;32m      9\u001b[0m                     \u001b[0mscoring\u001b[0m\u001b[1;33m=\u001b[0m\u001b[1;34m'neg_mean_squared_error'\u001b[0m\u001b[1;33m,\u001b[0m\u001b[1;33m\u001b[0m\u001b[1;33m\u001b[0m\u001b[0m\n\u001b[0;32m     10\u001b[0m                     return_train_score = True, n_jobs=-1)\n\u001b[1;32m---> 11\u001b[1;33m \u001b[0mmodel\u001b[0m\u001b[1;33m.\u001b[0m\u001b[0mfit\u001b[0m\u001b[1;33m(\u001b[0m\u001b[0mX_train\u001b[0m\u001b[1;33m,\u001b[0m \u001b[0my_train\u001b[0m\u001b[1;33m)\u001b[0m\u001b[1;33m\u001b[0m\u001b[1;33m\u001b[0m\u001b[0m\n\u001b[0m",
      "\u001b[1;32m~\\anaconda3\\envs\\tf_gpu\\lib\\site-packages\\sklearn\\utils\\validation.py\u001b[0m in \u001b[0;36minner_f\u001b[1;34m(*args, **kwargs)\u001b[0m\n\u001b[0;32m     70\u001b[0m                           FutureWarning)\n\u001b[0;32m     71\u001b[0m         \u001b[0mkwargs\u001b[0m\u001b[1;33m.\u001b[0m\u001b[0mupdate\u001b[0m\u001b[1;33m(\u001b[0m\u001b[1;33m{\u001b[0m\u001b[0mk\u001b[0m\u001b[1;33m:\u001b[0m \u001b[0marg\u001b[0m \u001b[1;32mfor\u001b[0m \u001b[0mk\u001b[0m\u001b[1;33m,\u001b[0m \u001b[0marg\u001b[0m \u001b[1;32min\u001b[0m \u001b[0mzip\u001b[0m\u001b[1;33m(\u001b[0m\u001b[0msig\u001b[0m\u001b[1;33m.\u001b[0m\u001b[0mparameters\u001b[0m\u001b[1;33m,\u001b[0m \u001b[0margs\u001b[0m\u001b[1;33m)\u001b[0m\u001b[1;33m}\u001b[0m\u001b[1;33m)\u001b[0m\u001b[1;33m\u001b[0m\u001b[1;33m\u001b[0m\u001b[0m\n\u001b[1;32m---> 72\u001b[1;33m         \u001b[1;32mreturn\u001b[0m \u001b[0mf\u001b[0m\u001b[1;33m(\u001b[0m\u001b[1;33m**\u001b[0m\u001b[0mkwargs\u001b[0m\u001b[1;33m)\u001b[0m\u001b[1;33m\u001b[0m\u001b[1;33m\u001b[0m\u001b[0m\n\u001b[0m\u001b[0;32m     73\u001b[0m     \u001b[1;32mreturn\u001b[0m \u001b[0minner_f\u001b[0m\u001b[1;33m\u001b[0m\u001b[1;33m\u001b[0m\u001b[0m\n\u001b[0;32m     74\u001b[0m \u001b[1;33m\u001b[0m\u001b[0m\n",
      "\u001b[1;32m~\\anaconda3\\envs\\tf_gpu\\lib\\site-packages\\sklearn\\model_selection\\_search.py\u001b[0m in \u001b[0;36mfit\u001b[1;34m(self, X, y, groups, **fit_params)\u001b[0m\n\u001b[0;32m    734\u001b[0m                 \u001b[1;32mreturn\u001b[0m \u001b[0mresults\u001b[0m\u001b[1;33m\u001b[0m\u001b[1;33m\u001b[0m\u001b[0m\n\u001b[0;32m    735\u001b[0m \u001b[1;33m\u001b[0m\u001b[0m\n\u001b[1;32m--> 736\u001b[1;33m             \u001b[0mself\u001b[0m\u001b[1;33m.\u001b[0m\u001b[0m_run_search\u001b[0m\u001b[1;33m(\u001b[0m\u001b[0mevaluate_candidates\u001b[0m\u001b[1;33m)\u001b[0m\u001b[1;33m\u001b[0m\u001b[1;33m\u001b[0m\u001b[0m\n\u001b[0m\u001b[0;32m    737\u001b[0m \u001b[1;33m\u001b[0m\u001b[0m\n\u001b[0;32m    738\u001b[0m         \u001b[1;31m# For multi-metric evaluation, store the best_index_, best_params_ and\u001b[0m\u001b[1;33m\u001b[0m\u001b[1;33m\u001b[0m\u001b[1;33m\u001b[0m\u001b[0m\n",
      "\u001b[1;32m~\\anaconda3\\envs\\tf_gpu\\lib\\site-packages\\sklearn\\model_selection\\_search.py\u001b[0m in \u001b[0;36m_run_search\u001b[1;34m(self, evaluate_candidates)\u001b[0m\n\u001b[0;32m   1186\u001b[0m     \u001b[1;32mdef\u001b[0m \u001b[0m_run_search\u001b[0m\u001b[1;33m(\u001b[0m\u001b[0mself\u001b[0m\u001b[1;33m,\u001b[0m \u001b[0mevaluate_candidates\u001b[0m\u001b[1;33m)\u001b[0m\u001b[1;33m:\u001b[0m\u001b[1;33m\u001b[0m\u001b[1;33m\u001b[0m\u001b[0m\n\u001b[0;32m   1187\u001b[0m         \u001b[1;34m\"\"\"Search all candidates in param_grid\"\"\"\u001b[0m\u001b[1;33m\u001b[0m\u001b[1;33m\u001b[0m\u001b[0m\n\u001b[1;32m-> 1188\u001b[1;33m         \u001b[0mevaluate_candidates\u001b[0m\u001b[1;33m(\u001b[0m\u001b[0mParameterGrid\u001b[0m\u001b[1;33m(\u001b[0m\u001b[0mself\u001b[0m\u001b[1;33m.\u001b[0m\u001b[0mparam_grid\u001b[0m\u001b[1;33m)\u001b[0m\u001b[1;33m)\u001b[0m\u001b[1;33m\u001b[0m\u001b[1;33m\u001b[0m\u001b[0m\n\u001b[0m\u001b[0;32m   1189\u001b[0m \u001b[1;33m\u001b[0m\u001b[0m\n\u001b[0;32m   1190\u001b[0m \u001b[1;33m\u001b[0m\u001b[0m\n",
      "\u001b[1;32m~\\anaconda3\\envs\\tf_gpu\\lib\\site-packages\\sklearn\\model_selection\\_search.py\u001b[0m in \u001b[0;36mevaluate_candidates\u001b[1;34m(candidate_params)\u001b[0m\n\u001b[0;32m    713\u001b[0m                                \u001b[1;32mfor\u001b[0m \u001b[0mparameters\u001b[0m\u001b[1;33m,\u001b[0m \u001b[1;33m(\u001b[0m\u001b[0mtrain\u001b[0m\u001b[1;33m,\u001b[0m \u001b[0mtest\u001b[0m\u001b[1;33m)\u001b[0m\u001b[1;33m\u001b[0m\u001b[1;33m\u001b[0m\u001b[0m\n\u001b[0;32m    714\u001b[0m                                in product(candidate_params,\n\u001b[1;32m--> 715\u001b[1;33m                                           cv.split(X, y, groups)))\n\u001b[0m\u001b[0;32m    716\u001b[0m \u001b[1;33m\u001b[0m\u001b[0m\n\u001b[0;32m    717\u001b[0m                 \u001b[1;32mif\u001b[0m \u001b[0mlen\u001b[0m\u001b[1;33m(\u001b[0m\u001b[0mout\u001b[0m\u001b[1;33m)\u001b[0m \u001b[1;33m<\u001b[0m \u001b[1;36m1\u001b[0m\u001b[1;33m:\u001b[0m\u001b[1;33m\u001b[0m\u001b[1;33m\u001b[0m\u001b[0m\n",
      "\u001b[1;32m~\\anaconda3\\envs\\tf_gpu\\lib\\site-packages\\joblib\\parallel.py\u001b[0m in \u001b[0;36m__call__\u001b[1;34m(self, iterable)\u001b[0m\n\u001b[0;32m   1059\u001b[0m \u001b[1;33m\u001b[0m\u001b[0m\n\u001b[0;32m   1060\u001b[0m             \u001b[1;32mwith\u001b[0m \u001b[0mself\u001b[0m\u001b[1;33m.\u001b[0m\u001b[0m_backend\u001b[0m\u001b[1;33m.\u001b[0m\u001b[0mretrieval_context\u001b[0m\u001b[1;33m(\u001b[0m\u001b[1;33m)\u001b[0m\u001b[1;33m:\u001b[0m\u001b[1;33m\u001b[0m\u001b[1;33m\u001b[0m\u001b[0m\n\u001b[1;32m-> 1061\u001b[1;33m                 \u001b[0mself\u001b[0m\u001b[1;33m.\u001b[0m\u001b[0mretrieve\u001b[0m\u001b[1;33m(\u001b[0m\u001b[1;33m)\u001b[0m\u001b[1;33m\u001b[0m\u001b[1;33m\u001b[0m\u001b[0m\n\u001b[0m\u001b[0;32m   1062\u001b[0m             \u001b[1;31m# Make sure that we get a last message telling us we are done\u001b[0m\u001b[1;33m\u001b[0m\u001b[1;33m\u001b[0m\u001b[1;33m\u001b[0m\u001b[0m\n\u001b[0;32m   1063\u001b[0m             \u001b[0melapsed_time\u001b[0m \u001b[1;33m=\u001b[0m \u001b[0mtime\u001b[0m\u001b[1;33m.\u001b[0m\u001b[0mtime\u001b[0m\u001b[1;33m(\u001b[0m\u001b[1;33m)\u001b[0m \u001b[1;33m-\u001b[0m \u001b[0mself\u001b[0m\u001b[1;33m.\u001b[0m\u001b[0m_start_time\u001b[0m\u001b[1;33m\u001b[0m\u001b[1;33m\u001b[0m\u001b[0m\n",
      "\u001b[1;32m~\\anaconda3\\envs\\tf_gpu\\lib\\site-packages\\joblib\\parallel.py\u001b[0m in \u001b[0;36mretrieve\u001b[1;34m(self)\u001b[0m\n\u001b[0;32m    938\u001b[0m             \u001b[1;32mtry\u001b[0m\u001b[1;33m:\u001b[0m\u001b[1;33m\u001b[0m\u001b[1;33m\u001b[0m\u001b[0m\n\u001b[0;32m    939\u001b[0m                 \u001b[1;32mif\u001b[0m \u001b[0mgetattr\u001b[0m\u001b[1;33m(\u001b[0m\u001b[0mself\u001b[0m\u001b[1;33m.\u001b[0m\u001b[0m_backend\u001b[0m\u001b[1;33m,\u001b[0m \u001b[1;34m'supports_timeout'\u001b[0m\u001b[1;33m,\u001b[0m \u001b[1;32mFalse\u001b[0m\u001b[1;33m)\u001b[0m\u001b[1;33m:\u001b[0m\u001b[1;33m\u001b[0m\u001b[1;33m\u001b[0m\u001b[0m\n\u001b[1;32m--> 940\u001b[1;33m                     \u001b[0mself\u001b[0m\u001b[1;33m.\u001b[0m\u001b[0m_output\u001b[0m\u001b[1;33m.\u001b[0m\u001b[0mextend\u001b[0m\u001b[1;33m(\u001b[0m\u001b[0mjob\u001b[0m\u001b[1;33m.\u001b[0m\u001b[0mget\u001b[0m\u001b[1;33m(\u001b[0m\u001b[0mtimeout\u001b[0m\u001b[1;33m=\u001b[0m\u001b[0mself\u001b[0m\u001b[1;33m.\u001b[0m\u001b[0mtimeout\u001b[0m\u001b[1;33m)\u001b[0m\u001b[1;33m)\u001b[0m\u001b[1;33m\u001b[0m\u001b[1;33m\u001b[0m\u001b[0m\n\u001b[0m\u001b[0;32m    941\u001b[0m                 \u001b[1;32melse\u001b[0m\u001b[1;33m:\u001b[0m\u001b[1;33m\u001b[0m\u001b[1;33m\u001b[0m\u001b[0m\n\u001b[0;32m    942\u001b[0m                     \u001b[0mself\u001b[0m\u001b[1;33m.\u001b[0m\u001b[0m_output\u001b[0m\u001b[1;33m.\u001b[0m\u001b[0mextend\u001b[0m\u001b[1;33m(\u001b[0m\u001b[0mjob\u001b[0m\u001b[1;33m.\u001b[0m\u001b[0mget\u001b[0m\u001b[1;33m(\u001b[0m\u001b[1;33m)\u001b[0m\u001b[1;33m)\u001b[0m\u001b[1;33m\u001b[0m\u001b[1;33m\u001b[0m\u001b[0m\n",
      "\u001b[1;32m~\\anaconda3\\envs\\tf_gpu\\lib\\site-packages\\joblib\\_parallel_backends.py\u001b[0m in \u001b[0;36mwrap_future_result\u001b[1;34m(future, timeout)\u001b[0m\n\u001b[0;32m    540\u001b[0m         AsyncResults.get from multiprocessing.\"\"\"\n\u001b[0;32m    541\u001b[0m         \u001b[1;32mtry\u001b[0m\u001b[1;33m:\u001b[0m\u001b[1;33m\u001b[0m\u001b[1;33m\u001b[0m\u001b[0m\n\u001b[1;32m--> 542\u001b[1;33m             \u001b[1;32mreturn\u001b[0m \u001b[0mfuture\u001b[0m\u001b[1;33m.\u001b[0m\u001b[0mresult\u001b[0m\u001b[1;33m(\u001b[0m\u001b[0mtimeout\u001b[0m\u001b[1;33m=\u001b[0m\u001b[0mtimeout\u001b[0m\u001b[1;33m)\u001b[0m\u001b[1;33m\u001b[0m\u001b[1;33m\u001b[0m\u001b[0m\n\u001b[0m\u001b[0;32m    543\u001b[0m         \u001b[1;32mexcept\u001b[0m \u001b[0mCfTimeoutError\u001b[0m \u001b[1;32mas\u001b[0m \u001b[0me\u001b[0m\u001b[1;33m:\u001b[0m\u001b[1;33m\u001b[0m\u001b[1;33m\u001b[0m\u001b[0m\n\u001b[0;32m    544\u001b[0m             \u001b[1;32mraise\u001b[0m \u001b[0mTimeoutError\u001b[0m \u001b[1;32mfrom\u001b[0m \u001b[0me\u001b[0m\u001b[1;33m\u001b[0m\u001b[1;33m\u001b[0m\u001b[0m\n",
      "\u001b[1;32m~\\anaconda3\\envs\\tf_gpu\\lib\\concurrent\\futures\\_base.py\u001b[0m in \u001b[0;36mresult\u001b[1;34m(self, timeout)\u001b[0m\n\u001b[0;32m    433\u001b[0m                 \u001b[1;32mraise\u001b[0m \u001b[0mCancelledError\u001b[0m\u001b[1;33m(\u001b[0m\u001b[1;33m)\u001b[0m\u001b[1;33m\u001b[0m\u001b[1;33m\u001b[0m\u001b[0m\n\u001b[0;32m    434\u001b[0m             \u001b[1;32melif\u001b[0m \u001b[0mself\u001b[0m\u001b[1;33m.\u001b[0m\u001b[0m_state\u001b[0m \u001b[1;33m==\u001b[0m \u001b[0mFINISHED\u001b[0m\u001b[1;33m:\u001b[0m\u001b[1;33m\u001b[0m\u001b[1;33m\u001b[0m\u001b[0m\n\u001b[1;32m--> 435\u001b[1;33m                 \u001b[1;32mreturn\u001b[0m \u001b[0mself\u001b[0m\u001b[1;33m.\u001b[0m\u001b[0m__get_result\u001b[0m\u001b[1;33m(\u001b[0m\u001b[1;33m)\u001b[0m\u001b[1;33m\u001b[0m\u001b[1;33m\u001b[0m\u001b[0m\n\u001b[0m\u001b[0;32m    436\u001b[0m             \u001b[1;32melse\u001b[0m\u001b[1;33m:\u001b[0m\u001b[1;33m\u001b[0m\u001b[1;33m\u001b[0m\u001b[0m\n\u001b[0;32m    437\u001b[0m                 \u001b[1;32mraise\u001b[0m \u001b[0mTimeoutError\u001b[0m\u001b[1;33m(\u001b[0m\u001b[1;33m)\u001b[0m\u001b[1;33m\u001b[0m\u001b[1;33m\u001b[0m\u001b[0m\n",
      "\u001b[1;32m~\\anaconda3\\envs\\tf_gpu\\lib\\concurrent\\futures\\_base.py\u001b[0m in \u001b[0;36m__get_result\u001b[1;34m(self)\u001b[0m\n\u001b[0;32m    382\u001b[0m     \u001b[1;32mdef\u001b[0m \u001b[0m__get_result\u001b[0m\u001b[1;33m(\u001b[0m\u001b[0mself\u001b[0m\u001b[1;33m)\u001b[0m\u001b[1;33m:\u001b[0m\u001b[1;33m\u001b[0m\u001b[1;33m\u001b[0m\u001b[0m\n\u001b[0;32m    383\u001b[0m         \u001b[1;32mif\u001b[0m \u001b[0mself\u001b[0m\u001b[1;33m.\u001b[0m\u001b[0m_exception\u001b[0m\u001b[1;33m:\u001b[0m\u001b[1;33m\u001b[0m\u001b[1;33m\u001b[0m\u001b[0m\n\u001b[1;32m--> 384\u001b[1;33m             \u001b[1;32mraise\u001b[0m \u001b[0mself\u001b[0m\u001b[1;33m.\u001b[0m\u001b[0m_exception\u001b[0m\u001b[1;33m\u001b[0m\u001b[1;33m\u001b[0m\u001b[0m\n\u001b[0m\u001b[0;32m    385\u001b[0m         \u001b[1;32melse\u001b[0m\u001b[1;33m:\u001b[0m\u001b[1;33m\u001b[0m\u001b[1;33m\u001b[0m\u001b[0m\n\u001b[0;32m    386\u001b[0m             \u001b[1;32mreturn\u001b[0m \u001b[0mself\u001b[0m\u001b[1;33m.\u001b[0m\u001b[0m_result\u001b[0m\u001b[1;33m\u001b[0m\u001b[1;33m\u001b[0m\u001b[0m\n",
      "\u001b[1;31mMemoryError\u001b[0m: Unable to allocate 6.98 MiB for an array with shape (2, 457298) and data type int64"
     ]
    }
   ],
   "source": [
    "target = 'Forward_Return_1m'\n",
    "\n",
    "model_data = dataset[features + [target]].dropna()\n",
    "X = model_data[features]\n",
    "y = model_data[target]\n",
    "X_train, X_test, y_train, y_test = train_test_split(X, y, random_state = 42, shuffle = False, train_size = 0.8)\n",
    "cv = TimeSeriesSplit(n_splits = 2)\n",
    "model = GridSearchCV(pipeline, params_grid, cv = cv,\n",
    "                    scoring='neg_mean_squared_error',\n",
    "                    return_train_score = True, n_jobs=-1)\n",
    "model.fit(X_train, y_train)"
   ]
  },
  {
   "cell_type": "code",
   "execution_count": 35,
   "metadata": {},
   "outputs": [
    {
     "output_type": "execute_result",
     "data": {
      "text/plain": [
       "(0.06444161908384105, 0.25385353864746707)"
      ]
     },
     "metadata": {},
     "execution_count": 35
    }
   ],
   "source": [
    "from sklearn.metrics import r2_score, mean_squared_error\n",
    "\n",
    "mse = mean_squared_error(y_test, model.predict(X_test))\n",
    "r2 = r2_score(y_test, model.predict(X_test))\n",
    "rmse = np.sqrt(mse)\n",
    "\n",
    "mse, rmse"
   ]
  },
  {
   "cell_type": "code",
   "execution_count": 36,
   "metadata": {},
   "outputs": [
    {
     "output_type": "execute_result",
     "data": {
      "text/plain": [
       "         mse      rmse ticker\n",
       "0   0.008389  0.091591  TECO2\n",
       "1   0.010790  0.103876   ALUA\n",
       "2   0.026015  0.161292   PAMP\n",
       "3   0.082880  0.287890   BHIP\n",
       "4   0.091155  0.301918   GGAL\n",
       "5   0.331363  0.575641   CEPU\n",
       "6   0.053514  0.231332    EDN\n",
       "7   0.022187  0.148954    BMA\n",
       "8   0.051138  0.226137   BBAR\n",
       "9   0.051927  0.227875   SUPV\n",
       "10  0.045981  0.214433    CVH\n",
       "11  0.047351  0.217602   LOMA"
      ],
      "text/html": "<div>\n<style scoped>\n    .dataframe tbody tr th:only-of-type {\n        vertical-align: middle;\n    }\n\n    .dataframe tbody tr th {\n        vertical-align: top;\n    }\n\n    .dataframe thead th {\n        text-align: right;\n    }\n</style>\n<table border=\"1\" class=\"dataframe\">\n  <thead>\n    <tr style=\"text-align: right;\">\n      <th></th>\n      <th>mse</th>\n      <th>rmse</th>\n      <th>ticker</th>\n    </tr>\n  </thead>\n  <tbody>\n    <tr>\n      <th>0</th>\n      <td>0.008389</td>\n      <td>0.091591</td>\n      <td>TECO2</td>\n    </tr>\n    <tr>\n      <th>1</th>\n      <td>0.010790</td>\n      <td>0.103876</td>\n      <td>ALUA</td>\n    </tr>\n    <tr>\n      <th>2</th>\n      <td>0.026015</td>\n      <td>0.161292</td>\n      <td>PAMP</td>\n    </tr>\n    <tr>\n      <th>3</th>\n      <td>0.082880</td>\n      <td>0.287890</td>\n      <td>BHIP</td>\n    </tr>\n    <tr>\n      <th>4</th>\n      <td>0.091155</td>\n      <td>0.301918</td>\n      <td>GGAL</td>\n    </tr>\n    <tr>\n      <th>5</th>\n      <td>0.331363</td>\n      <td>0.575641</td>\n      <td>CEPU</td>\n    </tr>\n    <tr>\n      <th>6</th>\n      <td>0.053514</td>\n      <td>0.231332</td>\n      <td>EDN</td>\n    </tr>\n    <tr>\n      <th>7</th>\n      <td>0.022187</td>\n      <td>0.148954</td>\n      <td>BMA</td>\n    </tr>\n    <tr>\n      <th>8</th>\n      <td>0.051138</td>\n      <td>0.226137</td>\n      <td>BBAR</td>\n    </tr>\n    <tr>\n      <th>9</th>\n      <td>0.051927</td>\n      <td>0.227875</td>\n      <td>SUPV</td>\n    </tr>\n    <tr>\n      <th>10</th>\n      <td>0.045981</td>\n      <td>0.214433</td>\n      <td>CVH</td>\n    </tr>\n    <tr>\n      <th>11</th>\n      <td>0.047351</td>\n      <td>0.217602</td>\n      <td>LOMA</td>\n    </tr>\n  </tbody>\n</table>\n</div>"
     },
     "metadata": {},
     "execution_count": 36
    }
   ],
   "source": [
    "from sklearn.metrics import r2_score, mean_squared_error\n",
    "\n",
    "metrics = {\n",
    "    'mse': [],\n",
    "    'rmse': [],\n",
    "    'ticker': []\n",
    "}\n",
    "\n",
    "for ticker in X_test.Ticker.unique():\n",
    "    # Compute metrics by ticker\n",
    "    mask = X_test.Ticker == ticker\n",
    "    mse = mean_squared_error(y_test[mask], model.predict(X_test[mask]))\n",
    "    rmse = np.sqrt(mse)\n",
    "    # Save in dict\n",
    "    metrics['ticker'].append(ticker)\n",
    "    metrics['mse'].append(mse)\n",
    "    metrics['rmse'].append(rmse)\n",
    "\n",
    "pd.DataFrame(metrics).sort_by(\"\").head(10)\n"
   ]
  },
  {
   "cell_type": "code",
   "execution_count": 41,
   "metadata": {},
   "outputs": [],
   "source": [
    "import pickle\n",
    "file = open('models/trained_model_1m.pkl', 'wb')\n",
    "pickle.dump(model, file)\n",
    "file.close()"
   ]
  },
  {
   "cell_type": "code",
   "execution_count": 44,
   "metadata": {},
   "outputs": [],
   "source": [
    "import pickle\n",
    "file = open('data/test_data.pkl', 'wb')\n",
    "pickle.dump(X_train, file)\n",
    "file.close()"
   ]
  }
 ],
 "metadata": {
  "kernelspec": {
   "display_name": "Python 3",
   "language": "python",
   "name": "python3"
  },
  "language_info": {
   "codemirror_mode": {
    "name": "ipython",
    "version": 3
   },
   "file_extension": ".py",
   "mimetype": "text/x-python",
   "name": "python",
   "nbconvert_exporter": "python",
   "pygments_lexer": "ipython3",
   "version": "3.7.8-final"
  }
 },
 "nbformat": 4,
 "nbformat_minor": 4
}